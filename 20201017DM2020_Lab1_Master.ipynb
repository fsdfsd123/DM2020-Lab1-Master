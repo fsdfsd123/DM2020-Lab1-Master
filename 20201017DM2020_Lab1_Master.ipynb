{
  "nbformat": 4,
  "nbformat_minor": 0,
  "metadata": {
    "kernelspec": {
      "display_name": "Python 3",
      "language": "python",
      "name": "python3"
    },
    "language_info": {
      "codemirror_mode": {
        "name": "ipython",
        "version": 3
      },
      "file_extension": ".py",
      "mimetype": "text/x-python",
      "name": "python",
      "nbconvert_exporter": "python",
      "pygments_lexer": "ipython3",
      "version": "3.8.3"
    },
    "colab": {
      "name": "DM2020-Lab1-Master.ipynb",
      "provenance": [],
      "private_outputs": true,
      "collapsed_sections": [],
      "toc_visible": true
    },
    "accelerator": "GPU"
  },
  "cells": [
    {
      "cell_type": "code",
      "metadata": {
        "id": "1fekf8Q-y1E4"
      },
      "source": [
        "from google.colab import drive\n",
        "drive.mount('/content/drive')"
      ],
      "execution_count": null,
      "outputs": []
    },
    {
      "cell_type": "code",
      "metadata": {
        "id": "5nRuwi7LzcGi"
      },
      "source": [
        "!ls"
      ],
      "execution_count": null,
      "outputs": []
    },
    {
      "cell_type": "code",
      "metadata": {
        "id": "HD9nvkL3y_dU"
      },
      "source": [
        "%cd drive/My Drive/data mining/DM2020-Lab1-Master-master"
      ],
      "execution_count": null,
      "outputs": []
    },
    {
      "cell_type": "markdown",
      "metadata": {
        "id": "SRKIigrOypf_"
      },
      "source": [
        "# Data Mining Lab 1\n",
        "In this lab session we will focus on the use of scientific computing libraries to efficiently process, transform, and manage data. Furthermore, we will provide best practices and introduce visualization tools for effectively conducting big data analysis and visualization."
      ]
    },
    {
      "cell_type": "markdown",
      "metadata": {
        "id": "fSPkWokwypgA"
      },
      "source": [
        "---"
      ]
    },
    {
      "cell_type": "markdown",
      "metadata": {
        "id": "2ubGsn5xypgA"
      },
      "source": [
        "## Table of Contents\n",
        "1. Data Source\n",
        "2. Data Preparation\n",
        "3. Data Transformation\n",
        " - 3.1 Converting Dictionary into Pandas dataframe\n",
        " - 3.2 Familiarizing yourself with the Data\n",
        "4. Data Mining using Pandas\n",
        " - 4.1 Dealing with Missing Values\n",
        " - 4.2 Dealing with Duplicate Data\n",
        "5. Data Preprocessing\n",
        " - 5.1 Sampling\n",
        " - 5.2 Feature Creation\n",
        " - 5.3 Feature Subset Selection\n",
        " - 5.4 Dimensionality Reduction\n",
        " - 5.5 Atrribute Transformation / Aggregation\n",
        " - 5.6 Discretization and Binarization\n",
        "6. Data Exploration\n",
        "7. Conclusion\n",
        "8. References"
      ]
    },
    {
      "cell_type": "markdown",
      "metadata": {
        "id": "w0JsfNJMypgB"
      },
      "source": [
        "---"
      ]
    },
    {
      "cell_type": "markdown",
      "metadata": {
        "id": "7wTRTbazypgB"
      },
      "source": [
        "## Introduction\n",
        "In this notebook I will explore a text-based, document-based [dataset](http://scikit-learn.org/stable/tutorial/text_analytics/working_with_text_data.html) using scientific computing tools such as Pandas and Numpy. In addition, several fundamental Data Mining concepts will be explored and explained in details, ranging from calculating distance measures to computing term frequency vectors. Coding examples, visualizations and demonstrations will be provided where necessary. Furthermore, additional exercises are provided after special topics. These exercises are geared towards testing the proficiency of students and motivate students to explore beyond the techniques covered in the notebook. "
      ]
    },
    {
      "cell_type": "markdown",
      "metadata": {
        "id": "hK5B15e5ypgC"
      },
      "source": [
        "---"
      ]
    },
    {
      "cell_type": "markdown",
      "metadata": {
        "id": "FQkRAXwKypgC"
      },
      "source": [
        "### Requirements\n",
        "Here are the computing and software requirements\n",
        "\n",
        "#### Computing Resources\n",
        "- Operating system: Preferably Linux or MacOS\n",
        "- RAM: 8 GB\n",
        "- Disk space: Mininium 8 GB\n",
        "\n",
        "#### Software Requirements\n",
        "Here is a list of the required programs and libraries necessary for this lab session:\n",
        "\n",
        "##### Language:\n",
        "- [Python 3+](https://www.python.org/download/releases/3.0/) (Note: coding will be done strictly on Python 3)\n",
        "    - Install latest version of Python 3\n",
        "    \n",
        "##### Environment:\n",
        "Using an environment is to avoid some library conflict problems. You can refer this [Setup Instructions](http://cs231n.github.io/setup-instructions/) to install and setup.\n",
        "\n",
        "- [Anaconda](https://www.anaconda.com/download/) (recommended but not required)\n",
        "    - Install anaconda environment\n",
        "    \n",
        "- [Python virtualenv](https://virtualenv.pypa.io/en/stable/userguide/) (recommended to Linux/MacOS user)\n",
        "    - Install virtual environment\n",
        "\n",
        "- [Kaggle Kernel](https://www.kaggle.com/kernels/)\n",
        "    - Run on the cloud  (with some limitations)\n",
        "    - Reference: [Kaggle Kernels Instructions](https://github.com/omarsar/data_mining_lab/blob/master/kagglekernel.md)\n",
        "    \n",
        "##### Necessary Libraries:\n",
        "- [Jupyter](http://jupyter.org/) (Strongly recommended but not required)\n",
        "    - Install `jupyter` and Use `$jupyter notebook` in terminal to run\n",
        "- [Scikit Learn](http://scikit-learn.org/stable/index.html)\n",
        "    - Install `sklearn` latest python library\n",
        "- [Pandas](http://pandas.pydata.org/)\n",
        "    - Install `pandas` python library\n",
        "- [Numpy](http://www.numpy.org/)\n",
        "    - Install `numpy` python library\n",
        "- [Matplotlib](https://matplotlib.org/)\n",
        "    - Install `maplotlib` for python\n",
        "- [Plotly](https://plot.ly/)\n",
        "    - Install and signup for `plotly`\n",
        "- [Seaborn](https://seaborn.pydata.org/)\n",
        "    - Install and signup for `seaborn`\n",
        "- [NLTK](http://www.nltk.org/)\n",
        "    - Install `nltk` library"
      ]
    },
    {
      "cell_type": "markdown",
      "metadata": {
        "id": "udUcaMB7ypgC"
      },
      "source": [
        "---"
      ]
    },
    {
      "cell_type": "code",
      "metadata": {
        "id": "xUdcT3CEypgD"
      },
      "source": [
        "# TEST necessary for when working with external scripts\n",
        "%load_ext autoreload\n",
        "%autoreload 2"
      ],
      "execution_count": null,
      "outputs": []
    },
    {
      "cell_type": "markdown",
      "metadata": {
        "id": "3xw74La8ypgF"
      },
      "source": [
        "---"
      ]
    },
    {
      "cell_type": "markdown",
      "metadata": {
        "id": "IgZIrcZBypgG"
      },
      "source": [
        "## 1. The Data\n",
        "In this notebook we will explore the popular 20 newsgroup dataset, originally provided [here](http://qwone.com/~jason/20Newsgroups/). The dataset is called \"Twenty Newsgroups\", which means there are 20 categories of news articles available in the entire dataset. A short description of the dataset, provided by the authors, is provided below:\n",
        "\n",
        "- *The 20 Newsgroups data set is a collection of approximately 20,000 newsgroup documents, partitioned (nearly) evenly across 20 different newsgroups. To the best of our knowledge, it was originally collected by Ken Lang, probably for his paper “Newsweeder: Learning to filter netnews,” though he does not explicitly mention this collection. The 20 newsgroups collection has become a popular data set for experiments in text applications of machine learning techniques, such as text classification and text clustering.*\n",
        "\n",
        "If you need more information about the dataset please refer to the reference provided above. Below is a snapshot of the dataset already converted into a table. Keep in mind that the original dataset is not in this nice pretty format. That work is left to us. That is one of the tasks that will be covered in this notebook: how to convert raw data into convenient tabular formats using Pandas. \n",
        "\n",
        "![atl txt](https://docs.google.com/drawings/d/e/2PACX-1vRd845nNXa1x1Enw6IoEbg-05lB19xG3mfO2BjnpZrloT0pSnY89stBV1gS9Iu6cgRCTq3E5giIT5ZI/pub?w=835&h=550)"
      ]
    },
    {
      "cell_type": "markdown",
      "metadata": {
        "id": "lc7E-COOypgG"
      },
      "source": [
        "---"
      ]
    },
    {
      "cell_type": "markdown",
      "metadata": {
        "id": "_N9pIfsBypgG"
      },
      "source": [
        "## 2. Data Preparation\n",
        "Now let us begin to explore the data. The original dataset can be found on the link provided above or you can directly use the version provided by scikit learn. Here we will use the scikit learn version. \n",
        "\n",
        "In this demonstration we are only going to look at 4 categories. This means we will not make use of the complete dataset, but only a subset of it, which includes the 4 categories defined below:"
      ]
    },
    {
      "cell_type": "code",
      "metadata": {
        "id": "Q5l8920pypgH"
      },
      "source": [
        "# categories\n",
        "categories = ['alt.atheism', 'soc.religion.christian', 'comp.graphics', 'sci.med']"
      ],
      "execution_count": null,
      "outputs": []
    },
    {
      "cell_type": "code",
      "metadata": {
        "id": "yA1bisqAypgJ"
      },
      "source": [
        "# obtain the documents containing the categories provided\n",
        "from sklearn.datasets import fetch_20newsgroups\n",
        "\n",
        "twenty_train = fetch_20newsgroups(subset='train', categories=categories, \\\n",
        "                                  shuffle=True, random_state=42)"
      ],
      "execution_count": null,
      "outputs": []
    },
    {
      "cell_type": "markdown",
      "metadata": {
        "id": "Z2YvE_t_ypgK"
      },
      "source": [
        "Let's take at look some of the records that are contained in our subset of the data"
      ]
    },
    {
      "cell_type": "code",
      "metadata": {
        "id": "xsNWuvhUypgL"
      },
      "source": [
        "twenty_train.data[0:2]"
      ],
      "execution_count": null,
      "outputs": []
    },
    {
      "cell_type": "markdown",
      "metadata": {
        "id": "X8C3utENypgN"
      },
      "source": [
        "**Note** the `twenty_train` is just a bunch of objects that can be accessed as python dictionaries; so, you can do the following operations on `twenty_train`"
      ]
    },
    {
      "cell_type": "code",
      "metadata": {
        "id": "uem9ahvnypgN"
      },
      "source": [
        "twenty_train.target_names"
      ],
      "execution_count": null,
      "outputs": []
    },
    {
      "cell_type": "code",
      "metadata": {
        "id": "gyLYLA4cypgP"
      },
      "source": [
        "len(twenty_train.data)"
      ],
      "execution_count": null,
      "outputs": []
    },
    {
      "cell_type": "code",
      "metadata": {
        "id": "W5yarRAVypgR"
      },
      "source": [
        "len(twenty_train.filenames)"
      ],
      "execution_count": null,
      "outputs": []
    },
    {
      "cell_type": "markdown",
      "metadata": {
        "id": "FHFtcyUOypgT"
      },
      "source": [
        "#### We can also print an example from the subset"
      ]
    },
    {
      "cell_type": "code",
      "metadata": {
        "id": "xzTwa-1MypgT"
      },
      "source": [
        "# An example of what the subset contains\n",
        "print(\"\\n\".join(twenty_train.data[0].split(\"\\n\")))"
      ],
      "execution_count": null,
      "outputs": []
    },
    {
      "cell_type": "markdown",
      "metadata": {
        "id": "Of8QvdGIypgU"
      },
      "source": [
        "... and determine the label of the example via `target_names` key value"
      ]
    },
    {
      "cell_type": "code",
      "metadata": {
        "id": "AwceIJi8ypgV"
      },
      "source": [
        "print(twenty_train.target_names[twenty_train.target[0]])"
      ],
      "execution_count": null,
      "outputs": []
    },
    {
      "cell_type": "code",
      "metadata": {
        "id": "1HTKUpwsypgX"
      },
      "source": [
        "twenty_train.target[0]"
      ],
      "execution_count": null,
      "outputs": []
    },
    {
      "cell_type": "markdown",
      "metadata": {
        "id": "lJIYrVNbypgZ"
      },
      "source": [
        "... we can also get the category of 10 documents via `target` key value "
      ]
    },
    {
      "cell_type": "code",
      "metadata": {
        "id": "MZf_KBZ4ypgZ"
      },
      "source": [
        "# category of first 10 documents.\n",
        "twenty_train.target[:10]"
      ],
      "execution_count": null,
      "outputs": []
    },
    {
      "cell_type": "markdown",
      "metadata": {
        "id": "as5aVggmypga"
      },
      "source": [
        "**Note:** As you can observe, both approaches above provide two different ways of obtaining the `category` value for the dataset. Ideally, we want to have access to both types -- numerical and nominal -- in the event some particular library favors a particular type. \n",
        "\n",
        "As you may have already noticed as well, there is no **tabular format** for the current version of the data. As data miners, we are interested in having our dataset in the most convenient format as possible; something we can manipulate easily and is compatible with our algorithms, and so forth."
      ]
    },
    {
      "cell_type": "markdown",
      "metadata": {
        "id": "avuP28Z5ypgb"
      },
      "source": [
        "Here is one way to get access to the *text* version of the label of a subset of our training data:"
      ]
    },
    {
      "cell_type": "code",
      "metadata": {
        "id": "YR22E3FXypgb"
      },
      "source": [
        "for t in twenty_train.target[:10]:\n",
        "    print(twenty_train.target_names[t])"
      ],
      "execution_count": null,
      "outputs": []
    },
    {
      "cell_type": "markdown",
      "metadata": {
        "id": "ws0WptTMypgd"
      },
      "source": [
        "---"
      ]
    },
    {
      "cell_type": "markdown",
      "metadata": {
        "id": "7ekhq-XZypgd"
      },
      "source": [
        "### ** >>> Exercise 1 (5 min): **  \n",
        "In this exercise, please print out the *text* data for the first three samples in the dataset. (See the above code for help)"
      ]
    },
    {
      "cell_type": "code",
      "metadata": {
        "id": "zYNOJjBCypgd"
      },
      "source": [
        "# Answer here\n",
        "twenty_train.data[0:3]"
      ],
      "execution_count": null,
      "outputs": []
    },
    {
      "cell_type": "markdown",
      "metadata": {
        "id": "8jnoQvFBypgf"
      },
      "source": [
        "---"
      ]
    },
    {
      "cell_type": "markdown",
      "metadata": {
        "id": "8oiMacj3ypgf"
      },
      "source": [
        "## 3. Data Transformation\n",
        "So we want to explore and understand our data a little bit better. Before we do that we definitely need to apply some transformations just so we can have our dataset in a nice format to be able to explore it freely and more efficient. Lucky for us, there are powerful scientific tools to transform our data into that tabular format we are so farmiliar with. So that is what we will do in the next section--transform our data into a nice table format."
      ]
    },
    {
      "cell_type": "markdown",
      "metadata": {
        "id": "dQmzqUhJypgg"
      },
      "source": [
        "---"
      ]
    },
    {
      "cell_type": "markdown",
      "metadata": {
        "id": "4DlTvt-Aypgg"
      },
      "source": [
        "### 3.1 Converting Dictionary into Pandas Dataframe\n",
        "Here we will show you how to convert dictionary objects into a pandas dataframe. And by the way, a pandas dataframe is nothing more than a table magically stored for efficient information retrieval."
      ]
    },
    {
      "cell_type": "code",
      "metadata": {
        "id": "93NYgozZypgg"
      },
      "source": [
        "twenty_train.data[0:2]"
      ],
      "execution_count": null,
      "outputs": []
    },
    {
      "cell_type": "code",
      "metadata": {
        "id": "6GSmm0N6ypgi"
      },
      "source": [
        "twenty_train.target"
      ],
      "execution_count": null,
      "outputs": []
    },
    {
      "cell_type": "code",
      "metadata": {
        "id": "WeHAitSLwdQe"
      },
      "source": [
        "!pwd"
      ],
      "execution_count": null,
      "outputs": []
    },
    {
      "cell_type": "code",
      "metadata": {
        "id": "rA3-XWfTxK6q"
      },
      "source": [
        "import sys\n",
        "sys.path.append('/content/drive/My Drive/data mining/DM2020-Lab1-Master-master')"
      ],
      "execution_count": null,
      "outputs": []
    },
    {
      "cell_type": "code",
      "metadata": {
        "id": "PR3DjuTUM2T-"
      },
      "source": [
        ""
      ],
      "execution_count": null,
      "outputs": []
    },
    {
      "cell_type": "code",
      "metadata": {
        "id": "8rJP0QF3ypgj"
      },
      "source": [
        "import pandas as pd\n",
        "\n",
        "# my functions\n",
        "#import helpers.data_mining_helpers as dmh\n",
        "from helpers import data_mining_helpers as dmh\n",
        "\n",
        "# construct dataframe from a list\n",
        "X = pd.DataFrame.from_records(dmh.format_rows(twenty_train), columns= ['text'])"
      ],
      "execution_count": null,
      "outputs": []
    },
    {
      "cell_type": "code",
      "metadata": {
        "id": "xbWlXXwHypgl"
      },
      "source": [
        "len(X)"
      ],
      "execution_count": null,
      "outputs": []
    },
    {
      "cell_type": "code",
      "metadata": {
        "id": "bW-n_9q8ypgm"
      },
      "source": [
        "X[0:2]"
      ],
      "execution_count": null,
      "outputs": []
    },
    {
      "cell_type": "code",
      "metadata": {
        "id": "xO1Ypw4hypgo"
      },
      "source": [
        "for t in X[\"text\"][:3]:\n",
        "    print(t)"
      ],
      "execution_count": null,
      "outputs": []
    },
    {
      "cell_type": "markdown",
      "metadata": {
        "id": "CStq6uzvypgp"
      },
      "source": [
        "### Adding Columns"
      ]
    },
    {
      "cell_type": "markdown",
      "metadata": {
        "id": "YZ7ibJeoypgq"
      },
      "source": [
        "One of the great advantages of a pandas dataframe is its flexibility. We can add columns to the current dataset programmatically with very little effort."
      ]
    },
    {
      "cell_type": "code",
      "metadata": {
        "id": "QM0HRs0Kypgq"
      },
      "source": [
        "# add category to the dataframe\n",
        "X['category'] = twenty_train.target"
      ],
      "execution_count": null,
      "outputs": []
    },
    {
      "cell_type": "code",
      "metadata": {
        "id": "QIyV01Z_ypgs"
      },
      "source": [
        "# add category label also\n",
        "X['category_name'] = X.category.apply(lambda t: dmh.format_labels(t, twenty_train))"
      ],
      "execution_count": null,
      "outputs": []
    },
    {
      "cell_type": "markdown",
      "metadata": {
        "id": "IPk5K_riypgt"
      },
      "source": [
        "Now we can print and see what our table looks like. "
      ]
    },
    {
      "cell_type": "code",
      "metadata": {
        "id": "fNKxK_KPypgu"
      },
      "source": [
        "X[0:10]"
      ],
      "execution_count": null,
      "outputs": []
    },
    {
      "cell_type": "markdown",
      "metadata": {
        "id": "2uaN42Euypgv"
      },
      "source": [
        "Nice! Isn't it? With this format we can conduct many operations easily and efficiently since Pandas dataframes provide us with a wide range of built-in features/functionalities. These features are operations which can directly and quickly be applied to the dataset. These operations may include standard operations like **removing records with missing values** and **aggregating new fields** to the current table (hereinafter referred to as a dataframe), which is desirable in almost every data mining project. Go Pandas!"
      ]
    },
    {
      "cell_type": "markdown",
      "metadata": {
        "id": "Qfa8KuHiypgv"
      },
      "source": [
        "---"
      ]
    },
    {
      "cell_type": "markdown",
      "metadata": {
        "id": "IENUnbgYypgw"
      },
      "source": [
        "### 3.2 Familiarizing yourself with the Data"
      ]
    },
    {
      "cell_type": "markdown",
      "metadata": {
        "id": "ylwgulUyypgw"
      },
      "source": [
        "To begin to show you the awesomeness of Pandas dataframes, let us look at how to run a simple query on our dataset. We want to query for the first 10 rows (documents), and we only want to keep the `text` and `category_name` attributes or fields."
      ]
    },
    {
      "cell_type": "code",
      "metadata": {
        "id": "qvY9FWoqypgw"
      },
      "source": [
        "# a simple query\n",
        "X[0:10][[\"text\", \"category_name\"]]"
      ],
      "execution_count": null,
      "outputs": []
    },
    {
      "cell_type": "markdown",
      "metadata": {
        "id": "siH90WXNypgx"
      },
      "source": [
        "Let us look at a few more interesting queries to familiarize ourselves with the efficiency and conveniency of Pandas dataframes."
      ]
    },
    {
      "cell_type": "markdown",
      "metadata": {
        "id": "Bow7Qh1Sypgy"
      },
      "source": [
        "#### Let's query the last 10 records"
      ]
    },
    {
      "cell_type": "code",
      "metadata": {
        "id": "N0e0wiYHypgy"
      },
      "source": [
        "X[-10:]"
      ],
      "execution_count": null,
      "outputs": []
    },
    {
      "cell_type": "markdown",
      "metadata": {
        "id": "0vmNnnZGypg0"
      },
      "source": [
        "Ready for some sourcery? Brace yourselves! Let us see if we can query every 10th record in our dataframe. In addition, our query must only contain the first 10 records. For this we will use the build-in function called `iloc`. This allows us to query a selection of our dataset by position. "
      ]
    },
    {
      "cell_type": "code",
      "metadata": {
        "id": "eSEpfHebypg0"
      },
      "source": [
        "# using loc (by position)\n",
        "X.iloc[::10, 0:3][0:10]"
      ],
      "execution_count": null,
      "outputs": []
    },
    {
      "cell_type": "markdown",
      "metadata": {
        "id": "Qy_LhtsMypg2"
      },
      "source": [
        "You can also use the `loc` function to explicity define the columns you want to query. Take a look at this [great discussion](https://stackoverflow.com/questions/28757389/pandas-loc-vs-iloc-vs-ix-vs-at-vs-iat/43968774) on the differences between the `iloc` and `loc` functions."
      ]
    },
    {
      "cell_type": "code",
      "metadata": {
        "id": "upCEUYzaypg2"
      },
      "source": [
        "# using loc (by label)\n",
        "X.loc[::10, 'text'][0:10]"
      ],
      "execution_count": null,
      "outputs": []
    },
    {
      "cell_type": "code",
      "metadata": {
        "id": "VO7PJYK7ypg3"
      },
      "source": [
        "# standard query (Cannot simultaneously select rows and columns)\n",
        "X[::10][0:10]"
      ],
      "execution_count": null,
      "outputs": []
    },
    {
      "cell_type": "markdown",
      "metadata": {
        "id": "g581_SQbypg5"
      },
      "source": [
        "### ** >>> Exercise 2 (take home):** \n",
        "Experiment with other querying techniques using pandas dataframes. Refer to their [documentation](https://pandas.pydata.org/pandas-docs/stable/indexing.html) for more information. "
      ]
    },
    {
      "cell_type": "code",
      "metadata": {
        "id": "phFtGg5Pypg5"
      },
      "source": [
        "#Answer here\n",
        "TEST = X\n",
        "TEST[['text','category']] = TEST[['category','text']]\n",
        "print(TEST)\n",
        "TEST = X\n",
        "TEST.loc[:,['text','category']] = TEST[['category','text']].to_numpy()\n",
        "print(TEST)\n",
        "TEST = X\n",
        "print(TEST[:5])\n",
        "print(TEST[::2])\n",
        "print(TEST[::-1])"
      ],
      "execution_count": null,
      "outputs": []
    },
    {
      "cell_type": "markdown",
      "metadata": {
        "id": "NSBmf6PAypg7"
      },
      "source": [
        "---"
      ]
    },
    {
      "cell_type": "markdown",
      "metadata": {
        "id": "AjnhEbejypg7"
      },
      "source": [
        "### ** >>> Exercise 3 (5 min): **  \n",
        "Try to fecth records belonging to the ```comp.graphics``` category, and query every 10th record. Only show the first 5 records."
      ]
    },
    {
      "cell_type": "code",
      "metadata": {
        "id": "CTuJ3mb9ypg7"
      },
      "source": [
        "# Answer here\n",
        "#X.loc[::10, X.loc['category_name'] == 'comp.graphics' ][0:5]\n",
        "X.loc[lambda f: f.category_name == 'comp.graphics'].iloc[::10,:][0:5]"
      ],
      "execution_count": null,
      "outputs": []
    },
    {
      "cell_type": "markdown",
      "metadata": {
        "id": "y9DYhOPWypg8"
      },
      "source": [
        "---"
      ]
    },
    {
      "cell_type": "markdown",
      "metadata": {
        "id": "89B7H26Typg9"
      },
      "source": [
        "## 4. Data Mining using Pandas"
      ]
    },
    {
      "cell_type": "markdown",
      "metadata": {
        "id": "B8oETH-9ypg9"
      },
      "source": [
        "Let's do some serious work now. Let's learn to program some of the ideas and concepts learned so far in the data mining course. This is the only way we can be convince ourselves of the true power of Pandas dataframes. "
      ]
    },
    {
      "cell_type": "markdown",
      "metadata": {
        "id": "dfwtUzpkypg9"
      },
      "source": [
        "### 4.1 Missing Values"
      ]
    },
    {
      "cell_type": "markdown",
      "metadata": {
        "id": "mjBtLdl8ypg9"
      },
      "source": [
        "First, let us consider that our dataset has some *missing values* and we want to remove those values. In its current state our dataset has no missing values, but for practice sake we will add some records with missing values and then write some code to deal with these objects that contain missing values. You will see for yourself how easy it is to deal with missing values once you have your data transformed into a Pandas dataframe.\n",
        "\n",
        "Before we jump into coding, let us do a quick review of what we have learned in the Data Mining course. Specifically, let's review the methods used to deal with missing values.\n",
        "\n",
        "The most common reasons for having missing values in datasets has to do with how the data was initially collected. A good example of this is when a patient comes into the ER room, the data is collected as quickly as possible and depending on the conditions of the patients, the personal data being collected is either incomplete or partially complete. In the former and latter cases, we are presented with a case of \"missing values\". Knowing that patients data is particularly critical and can be used by the health authorities to conduct some interesting analysis, we as the data miners are left with the tough task of deciding what to do with these missing and incomplete records. We need to deal with these records because they are definitely going to affect our analysis or learning algorithms. So what do we do? There are several ways to handle missing values, and some of the more effective ways are presented below (Note: You can reference the slides - Session 1 Handout for the additional information).\n",
        "\n",
        "- **Eliminate Data Objects** - Here we completely discard records once they contain some missing values. This is the easiest approach and the one we will be using in this notebook. The immediate drawback of going with this approach is that you lose some information, and in some cases too much of it. Now imagine that half of the records have at least one or more missing values. Here you are presented with the tough decision of quantity vs quality. In any event, this decision must be made carefully, hence the reason for emphasizing it here in this notebook. \n",
        "\n",
        "- **Estimate Missing Values** - Here we try to estimate the missing values based on some criteria. Although this approach may be proven to be effective, it is not always the case, especially when we are dealing with sensitive data, like **Gender** or **Names**. For fields like **Address**, there could be ways to obtain these missing addresses using some data aggregation technique or obtain the information directly from other databases or public data sources.\n",
        "\n",
        "- **Ignore the missing value during analysis** - Here we basically ignore the missing values and proceed with our analysis. Although this is the most naive way to handle missing values it may proof effective, especially when the missing values includes information that is not important to the analysis being conducted. But think about it for a while. Would you ignore missing values, especially when in this day and age it is difficult to obtain high quality datasets? Again, there are some tradeoffs, which we will talk about later in the notebook.\n",
        "\n",
        "- **Replace with all possible values** - As an efficient and responsible data miner, we sometimes just need to put in the hard hours of work and find ways to makes up for these missing values. This last option is a very wise option for cases where data is scarce (which is almost always) or when dealing with sensitive data. Imagine that our dataset has an **Age** field, which contains many missing values. Since **Age** is a continuous variable, it means that we can build a separate model for calculating the age for the incomplete records based on some rule-based appraoch or probabilistic approach.  "
      ]
    },
    {
      "cell_type": "markdown",
      "metadata": {
        "id": "kunHzBmSypg-"
      },
      "source": [
        "As mentioned earlier, we are going to go with the first option but you may be asked to compute missing values, using a different approach, as an exercise. Let's get to it!\n",
        "\n",
        "First we want to add the dummy records with missing values since the dataset we have is perfectly composed and cleaned that it contains no missing values. First let us check for ourselves that indeed the dataset doesn't contain any missing values. We can do that easily by using the following built-in function provided by Pandas.  "
      ]
    },
    {
      "cell_type": "code",
      "metadata": {
        "id": "B-ZkvNFzypg-"
      },
      "source": [
        "X.isnull()"
      ],
      "execution_count": null,
      "outputs": []
    },
    {
      "cell_type": "markdown",
      "metadata": {
        "id": "cYBPoHLNyphA"
      },
      "source": [
        "The `isnull` function looks through the entire dataset for null values and returns `True` wherever it finds any missing field or record. As you will see above, and as we anticipated, our dataset looks clean and all values are present, since `isnull` returns **False** for all fields and records. But let us start to get our hands dirty and build a nice little function to check each of the records, column by column, and return a nice little message telling us the amount of missing records found. This excerice will also encourage us to explore other capabilities of pandas dataframes. In most cases, the build-in functions are good enough, but as you saw above when the entire table was printed, it is impossible to tell if there are missing records just by looking at preview of records manually, especially in cases where the dataset is huge. We want a more reliable way to achieve this. Let's get to it!"
      ]
    },
    {
      "cell_type": "code",
      "metadata": {
        "id": "0WUG_C8qyphA"
      },
      "source": [
        "X.isnull().apply(lambda x: dmh.check_missing_values(x))"
      ],
      "execution_count": null,
      "outputs": []
    },
    {
      "cell_type": "markdown",
      "metadata": {
        "id": "Dh_qJZCfyphB"
      },
      "source": [
        "Okay, a lot happened there in that one line of code, so let's break it down. First, with the `isnull` we tranformed our table into the **True/False** table you see above, where **True** in this case means that the data is missing and **False** means that the data is present. We then take the transformed table and apply a function to each row that essentially counts to see if there are missing values in each record and print out how much missing values we found. In other words the `check_missing_values` function looks through each field (attribute or column) in the dataset and counts how many missing values were found. \n",
        "\n",
        "There are many other clever ways to check for missing data, and that is what makes Pandas so beautiful to work with. You get the control you need as a data scientist or just a person working in data mining projects. Indeed, Pandas makes your life easy!"
      ]
    },
    {
      "cell_type": "markdown",
      "metadata": {
        "id": "IW3eqq5_yphE"
      },
      "source": [
        "---"
      ]
    },
    {
      "cell_type": "markdown",
      "metadata": {
        "id": "GDFtFWQxyphF"
      },
      "source": [
        "### >>> **Exercise 4 (5 min):** \n",
        "Let's try something different. Instead of calculating missing values by column let's try to calculate the missing values in every record instead of every column.  \n",
        "$Hint$ : `axis` parameter. Check the documentation for more information."
      ]
    },
    {
      "cell_type": "code",
      "metadata": {
        "id": "zYUoVoNOyphF"
      },
      "source": [
        "# Answer here\n",
        "X.isnull().apply(lambda x: dmh.check_missing_values(x),axis = 1)"
      ],
      "execution_count": null,
      "outputs": []
    },
    {
      "cell_type": "markdown",
      "metadata": {
        "id": "MLxW8LQPyphH"
      },
      "source": [
        "---"
      ]
    },
    {
      "cell_type": "markdown",
      "metadata": {
        "id": "EccaKjrFyphI"
      },
      "source": [
        "We have our function to check for missing records, now let us do something mischievous and insert some dummy data into the dataframe and test the reliability of our function. This dummy data is intended to corrupt the dataset. I mean this happens a lot today, especially when hackers want to hijack or corrupt a database.\n",
        "\n",
        "We will insert a `Series`, which is basically a \"one-dimensional labeled array capable of holding data of any type (integer, string, float, python objects, etc.). The axis labels are collectively called index.\", into our current dataframe."
      ]
    },
    {
      "cell_type": "code",
      "metadata": {
        "id": "Pskr9RAsyphI"
      },
      "source": [
        "dummy_series = pd.Series([\"dummy_record\", 1], index=[\"text\", \"category\"])"
      ],
      "execution_count": null,
      "outputs": []
    },
    {
      "cell_type": "code",
      "metadata": {
        "id": "Ch5GXMDqyphK"
      },
      "source": [
        "dummy_series"
      ],
      "execution_count": null,
      "outputs": []
    },
    {
      "cell_type": "code",
      "metadata": {
        "id": "_heiICnvyphM"
      },
      "source": [
        "result_with_series = X.append(dummy_series, ignore_index=True)"
      ],
      "execution_count": null,
      "outputs": []
    },
    {
      "cell_type": "code",
      "metadata": {
        "id": "khNXuF4KyphN"
      },
      "source": [
        "# check if the records was commited into result\n",
        "len(result_with_series)"
      ],
      "execution_count": null,
      "outputs": []
    },
    {
      "cell_type": "markdown",
      "metadata": {
        "id": "QuA7xYlmyphP"
      },
      "source": [
        "Now we that we have added the record with some missing values. Let try our function and see if it can detect that there is a missing value on the resulting dataframe."
      ]
    },
    {
      "cell_type": "code",
      "metadata": {
        "id": "cQINcJ2dyphP"
      },
      "source": [
        "result_with_series.isnull().apply(lambda x: dmh.check_missing_values(x))"
      ],
      "execution_count": null,
      "outputs": []
    },
    {
      "cell_type": "markdown",
      "metadata": {
        "id": "DIkgm4rKyphR"
      },
      "source": [
        "Indeed there is a missing value in this new dataframe. Specifically, the missing value comes from the `category_name` attribute. As I mentioned before, there are many ways to conduct specific operations on the dataframes. In this case let us use a simple dictionary and try to insert it into our original dataframe `X`. Notice that above we are not changing the `X` dataframe as results are directly applied to the assignment variable provided. But in the event that we just want to keep things simple, we can just directly apply the changes to `X` and assign it to itself as we will do below. This modification will create a need to remove this dummy record later on, which means that we need to learn more about Pandas dataframes. This is getting intense! But just relax, everything will be fine!"
      ]
    },
    {
      "cell_type": "code",
      "metadata": {
        "id": "90i_3xlPyphR"
      },
      "source": [
        "# dummy record as dictionary format\n",
        "dummy_dict = [{'text': 'dummy_record',\n",
        "               'category': 1\n",
        "              }]"
      ],
      "execution_count": null,
      "outputs": []
    },
    {
      "cell_type": "code",
      "metadata": {
        "id": "ymjCqIKKyphS"
      },
      "source": [
        "X = X.append(dummy_dict, ignore_index=True)"
      ],
      "execution_count": null,
      "outputs": []
    },
    {
      "cell_type": "code",
      "metadata": {
        "id": "oVhb23n1yphU"
      },
      "source": [
        "len(X)"
      ],
      "execution_count": null,
      "outputs": []
    },
    {
      "cell_type": "code",
      "metadata": {
        "id": "bEj-0EcOyphW"
      },
      "source": [
        "X.isnull().apply(lambda x: dmh.check_missing_values(x))"
      ],
      "execution_count": null,
      "outputs": []
    },
    {
      "cell_type": "markdown",
      "metadata": {
        "id": "_-xs1HSoyphX"
      },
      "source": [
        "So now that we can see that our data has missing values, we want to remove the records with missing values. The code to drop the record with missing that we just added, is the following:"
      ]
    },
    {
      "cell_type": "code",
      "metadata": {
        "id": "ZR7R5lxRyphX"
      },
      "source": [
        "X.dropna(inplace=True)"
      ],
      "execution_count": null,
      "outputs": []
    },
    {
      "cell_type": "markdown",
      "metadata": {
        "id": "H-Q7nvvmyphY"
      },
      "source": [
        "... and now let us test to see if we gotten rid of the records with missing values. "
      ]
    },
    {
      "cell_type": "code",
      "metadata": {
        "id": "0VLRBPwdyphZ"
      },
      "source": [
        "X.isnull().apply(lambda x: dmh.check_missing_values(x))"
      ],
      "execution_count": null,
      "outputs": []
    },
    {
      "cell_type": "code",
      "metadata": {
        "id": "cP-Q1ATsypha"
      },
      "source": [
        "len(X)"
      ],
      "execution_count": null,
      "outputs": []
    },
    {
      "cell_type": "markdown",
      "metadata": {
        "id": "a-50PaRIyphc"
      },
      "source": [
        "And we are back with our original dataset, clean and tidy as we want it. That's enough on how to deal with missing values, let us now move unto something more fun. "
      ]
    },
    {
      "cell_type": "markdown",
      "metadata": {
        "id": "HAOL41Seyphd"
      },
      "source": [
        "But just in case you want to learn more about how to deal with missing data, refer to the official [Pandas documentation](http://pandas.pydata.org/pandas-docs/stable/missing_data.html#missing-data)."
      ]
    },
    {
      "cell_type": "markdown",
      "metadata": {
        "id": "uKE_12p5yphd"
      },
      "source": [
        "---"
      ]
    },
    {
      "cell_type": "markdown",
      "metadata": {
        "id": "F2nMRFWMyphd"
      },
      "source": [
        "### >>> **Exercise 5 (take home)** \n",
        "There is an old saying that goes, \"The devil is in the details.\" When we are working with extremely large data, it's difficult to check records one by one (as we have been doing so far). And also, we don't even know what kind of missing values we are facing. Thus, \"debugging\" skills get sharper as we spend more time solving bugs. Let's focus on a different method to check for missing values and the kinds of missing values you may encounter. It's not easy to check for missing values as you will find out in a minute.\n",
        "\n",
        "Please check the data and the process below, describe what you observe and why it happened.   \n",
        "$Hint$ :  why `.isnull()` didn't work?"
      ]
    },
    {
      "cell_type": "code",
      "metadata": {
        "id": "HIkEaMeNyphd"
      },
      "source": [
        "import numpy as np\n",
        "\n",
        "NA_dict = [{ 'id': 'A', 'missing_example': np.nan },\n",
        "           { 'id': 'B'                    },\n",
        "           { 'id': 'C', 'missing_example': 'NaN'  },\n",
        "           { 'id': 'D', 'missing_example': 'None' },\n",
        "           { 'id': 'E', 'missing_example':  None  },\n",
        "           { 'id': 'F', 'missing_example': ''     }]\n",
        "\n",
        "NA_df = pd.DataFrame(NA_dict, columns = ['id','missing_example'])\n",
        "NA_df"
      ],
      "execution_count": null,
      "outputs": []
    },
    {
      "cell_type": "code",
      "metadata": {
        "id": "Cgx7Eltkyphe"
      },
      "source": [
        "NA_df['missing_example'].isnull()"
      ],
      "execution_count": null,
      "outputs": []
    },
    {
      "cell_type": "code",
      "metadata": {
        "id": "OuPGZ1gryphg"
      },
      "source": [
        "# Answer here\n",
        "#column 2 and 3 and 5 store string \"NaN\" and string \"None\" and string \"\", they are not null in fact"
      ],
      "execution_count": null,
      "outputs": []
    },
    {
      "cell_type": "markdown",
      "metadata": {
        "id": "CXj2t0VJyphh"
      },
      "source": [
        "---"
      ]
    },
    {
      "cell_type": "markdown",
      "metadata": {
        "id": "cJTS2Exbyphh"
      },
      "source": [
        "### 4.2 Dealing with Duplicate Data\n",
        "Dealing with duplicate data is just as painful as dealing with missing data. The worst case is that you have duplicate data that has missing values. But let us not get carried away. Let us stick with the basics. As we have learned in our Data Mining course, duplicate data can occur because of many reasons. The majority of the times it has to do with how we store data or how we collect and merge data. For instance, we may have collected and stored a tweet, and a retweet of that same tweet as two different records; this results in a case of data duplication; the only difference being that one is the original tweet and the other the retweeted one. Here you will learn that dealing with duplicate data is not as challenging as missing values. But this also all depends on what you consider as duplicate data, i.e., this all depends on your criteria for what is considered as a duplicate record and also what type of data you are dealing with. For textual data, it may not be so trivial as it is for numerical values or images. Anyhow, let us look at some code on how to deal with duplicate records in our `X` dataframe."
      ]
    },
    {
      "cell_type": "markdown",
      "metadata": {
        "id": "WKt7aUjKyphh"
      },
      "source": [
        "First, let us check how many duplicates we have in our current dataset. Here is the line of code that checks for duplicates; it is very similar to the `isnull` function that we used to check for missing values. "
      ]
    },
    {
      "cell_type": "code",
      "metadata": {
        "id": "G5lPBdR_yphh"
      },
      "source": [
        "X.duplicated()"
      ],
      "execution_count": null,
      "outputs": []
    },
    {
      "cell_type": "markdown",
      "metadata": {
        "id": "6dRUROcbyphj"
      },
      "source": [
        "We can also check the sum of duplicate records by simply doing:"
      ]
    },
    {
      "cell_type": "code",
      "metadata": {
        "id": "hVx071Kjyphk"
      },
      "source": [
        "sum(X.duplicated())"
      ],
      "execution_count": null,
      "outputs": []
    },
    {
      "cell_type": "markdown",
      "metadata": {
        "id": "ogQLrAQWyphl"
      },
      "source": [
        "Based on that output, you may be asking why did the `duplicated` operation only returned one single column that indicates whether there is a duplicate record or not. So yes, all the `duplicated()` operation does is to check per records instead of per column. That is why the operation only returns one value instead of three values for each column. It appears that we don't have any duplicates since none of our records resulted in `True`. If we want to check for duplicates as we did above for some particular column, instead of all columns, we do something as shown below. As you may have noticed, in the case where we select some columns instead of checking by all columns, we are kind of lowering the criteria of what is considered as a duplicate record. So let us only check for duplicates by onyl checking the `text` attribute. "
      ]
    },
    {
      "cell_type": "code",
      "metadata": {
        "id": "k-2FDt6Wyphl"
      },
      "source": [
        "sum(X.duplicated('text'))"
      ],
      "execution_count": null,
      "outputs": []
    },
    {
      "cell_type": "markdown",
      "metadata": {
        "id": "BrkMSYmPyphm"
      },
      "source": [
        "Now let us create some duplicated dummy records and append it to the main dataframe `X`. Subsequenlty, let us try to get rid of the duplicates."
      ]
    },
    {
      "cell_type": "code",
      "metadata": {
        "id": "KJUntKMTyphn"
      },
      "source": [
        "dummy_duplicate_dict = [{\n",
        "                             'text': 'dummy record',\n",
        "                             'category': 1, \n",
        "                             'category_name': \"dummy category\"\n",
        "                        },\n",
        "                        {\n",
        "                             'text': 'dummy record',\n",
        "                             'category': 1, \n",
        "                             'category_name': \"dummy category\"\n",
        "                        }]"
      ],
      "execution_count": null,
      "outputs": []
    },
    {
      "cell_type": "code",
      "metadata": {
        "id": "p2jROnW7ypho"
      },
      "source": [
        "X = X.append(dummy_duplicate_dict, ignore_index=True)"
      ],
      "execution_count": null,
      "outputs": []
    },
    {
      "cell_type": "code",
      "metadata": {
        "id": "c2eB7VnHyphp"
      },
      "source": [
        "len(X)"
      ],
      "execution_count": null,
      "outputs": []
    },
    {
      "cell_type": "code",
      "metadata": {
        "id": "fZ9nn3i5yphq"
      },
      "source": [
        "sum(X.duplicated('text'))"
      ],
      "execution_count": null,
      "outputs": []
    },
    {
      "cell_type": "markdown",
      "metadata": {
        "id": "NVMh3LY2yphr"
      },
      "source": [
        "We have added the dummy duplicates to `X`. Now we are faced with the decision as to what to do with the duplicated records after we have found it. In our case, we want to get rid of all the duplicated records without preserving a copy. We can simply do that with the following line of code:"
      ]
    },
    {
      "cell_type": "code",
      "metadata": {
        "id": "fF5arN0-yphr"
      },
      "source": [
        "X.drop_duplicates(keep=False, inplace=True) # inplace applies changes directly on our dataframe"
      ],
      "execution_count": null,
      "outputs": []
    },
    {
      "cell_type": "code",
      "metadata": {
        "id": "YsMiFCbyyphs"
      },
      "source": [
        "len(X)"
      ],
      "execution_count": null,
      "outputs": []
    },
    {
      "cell_type": "markdown",
      "metadata": {
        "id": "G6S1fE7kypht"
      },
      "source": [
        "Check out the Pandas [documentation](http://pandas.pydata.org/pandas-docs/stable/indexing.html?highlight=duplicate#duplicate-data) for more information on dealing with duplicate data."
      ]
    },
    {
      "cell_type": "markdown",
      "metadata": {
        "id": "qZmMaFe4yphu"
      },
      "source": [
        "---"
      ]
    },
    {
      "cell_type": "markdown",
      "metadata": {
        "id": "-h8pLGEHyphu"
      },
      "source": [
        "## 5.  Data Preprocessing\n",
        "In the Data Mining course we learned about the many ways of performing data preprocessing. In reality, the list is quiet general as the specifics of what data preprocessing involves is too much to cover in one course. This is especially true when you are dealing with unstructured data, as we are dealing with in this particular notebook. But let us look at some examples for each data preprocessing technique that we learned in the class. We will cover each item one by one, and provide example code for each category. You will learn how to peform each of the operations, using Pandas, that cover the essentials to Preprocessing in Data Mining. We are not going to follow any strict order, but the items we will cover in the preprocessing section of this notebook are as follows:\n",
        "\n",
        "- Aggregation\n",
        "- Sampling\n",
        "- Dimensionality Reduction\n",
        "- Feature Subset Selection\n",
        "- Feature Creation\n",
        "- Discretization and Binarization\n",
        "- Attribute Transformation"
      ]
    },
    {
      "cell_type": "markdown",
      "metadata": {
        "id": "zWPIrYZsyphu"
      },
      "source": [
        "---"
      ]
    },
    {
      "cell_type": "markdown",
      "metadata": {
        "id": "cNoAFjpbyphu"
      },
      "source": [
        "### 5.1 Sampling\n",
        "The first concept that we are going to cover from the above list is sampling. Sampling refers to the technique used for selecting data. The functionalities that we use to  selected data through queries provided by Pandas are actually basic methods for sampling. The reasons for sampling are sometimes due to the size of data -- we want a smaller subset of the data that is still representatitive enough as compared to the original dataset. \n",
        "\n",
        "We don't have a problem of size in our current dataset since it is just a couple thousand records long. But if we pay attention to how much content is included in the `text` field of each of those records, you will realize that sampling may not be a bad idea after all. In fact, we have already done some sampling by just reducing the records we are using here in this notebook; remember that we are only using four categories from the all the 20 categories available. Let us get an idea on how to sample using pandas operations."
      ]
    },
    {
      "cell_type": "code",
      "metadata": {
        "id": "dZ_LJyV2ZguJ"
      },
      "source": [
        "X_before_sample = X ##Previous state refers to X before generating X_sample.?"
      ],
      "execution_count": null,
      "outputs": []
    },
    {
      "cell_type": "code",
      "metadata": {
        "id": "tCMMLnenyphu"
      },
      "source": [
        "X_sample = X.sample(n=1000) #random state"
      ],
      "execution_count": null,
      "outputs": []
    },
    {
      "cell_type": "code",
      "metadata": {
        "id": "mPnlptw5Zmcu"
      },
      "source": [
        "X_before_sample.compare(X)"
      ],
      "execution_count": null,
      "outputs": []
    },
    {
      "cell_type": "code",
      "metadata": {
        "id": "Mm9JYalVyphv"
      },
      "source": [
        "len(X_sample)"
      ],
      "execution_count": null,
      "outputs": []
    },
    {
      "cell_type": "code",
      "metadata": {
        "id": "zj7i5Ye9yphx"
      },
      "source": [
        "X_sample[0:4]"
      ],
      "execution_count": null,
      "outputs": []
    },
    {
      "cell_type": "markdown",
      "metadata": {
        "id": "I-75_gLKyphy"
      },
      "source": [
        "---"
      ]
    },
    {
      "cell_type": "markdown",
      "metadata": {
        "id": "w8V77Dzxyphz"
      },
      "source": [
        "### >>> Exercise 6 (take home):\n",
        "Notice any changes to the `X` dataframe? What are they? Report every change you noticed as compared to the previous state of `X`. Feel free to query and look more closely at the dataframe for these changes."
      ]
    },
    {
      "cell_type": "code",
      "metadata": {
        "id": "YBlOsxJzyphz"
      },
      "source": [
        "# Answer here\n",
        "#X_sample\n",
        "# X_sample is the data random chosen from X, so the Order of X_sample is random\n",
        "print(X_before_sample.compare(X))\n",
        "print(X_before_sample == X)\n",
        "#X_before_sample is the data before genereate the sample of x\n",
        "#and I user the compare function of dataframe and == to compare thme\n",
        "#I believe there are no differences or I compare the run previous state?\n",
        "#Previous state refers to X before generating X_sample.?\n",
        "help(X.sample)\n",
        "#see the help of X.sample function , it will not change the X"
      ],
      "execution_count": null,
      "outputs": []
    },
    {
      "cell_type": "markdown",
      "metadata": {
        "id": "Xc-EM1W0yph0"
      },
      "source": [
        "---"
      ]
    },
    {
      "cell_type": "markdown",
      "metadata": {
        "id": "CSKakNe8yph0"
      },
      "source": [
        "Let's do something cool here while we are working with sampling! Let us look at the distribution of categories in both the sample and original dataset. Let us visualize and analyze the disparity between the two datasets. To generate some visualizations, we are going to use `matplotlib` python library. With matplotlib, things are faster and compatability-wise it may just be the best visualization library for visualizing content extracted from dataframes and when using Jupyter notebooks. Let's take a loot at the magic of `matplotlib` below."
      ]
    },
    {
      "cell_type": "code",
      "metadata": {
        "id": "RNNmHR9Vyph1"
      },
      "source": [
        "import matplotlib.pyplot as plt\n",
        "%matplotlib inline"
      ],
      "execution_count": null,
      "outputs": []
    },
    {
      "cell_type": "code",
      "metadata": {
        "id": "VW9llrwIyph2"
      },
      "source": [
        "categories"
      ],
      "execution_count": null,
      "outputs": []
    },
    {
      "cell_type": "code",
      "metadata": {
        "id": "sdlW5V7Syph3"
      },
      "source": [
        "print(X.category_name.value_counts())\n",
        "\n",
        "# plot barchart for X_sample\n",
        "X.category_name.value_counts().plot(kind = 'bar',\n",
        "                                    title = 'Category distribution',\n",
        "                                    ylim = [0, 650],        \n",
        "                                    rot = 0, fontsize = 11, figsize = (8,3))"
      ],
      "execution_count": null,
      "outputs": []
    },
    {
      "cell_type": "code",
      "metadata": {
        "id": "DXDevgzryph4"
      },
      "source": [
        "print(X_sample.category_name.value_counts())\n",
        "\n",
        "# plot barchart for X_sample\n",
        "X_sample.category_name.value_counts().plot(kind = 'bar',\n",
        "                                           title = 'Category distribution',\n",
        "                                           ylim = [0, 300], \n",
        "                                           rot = 0, fontsize = 12, figsize = (8,3))"
      ],
      "execution_count": null,
      "outputs": []
    },
    {
      "cell_type": "markdown",
      "metadata": {
        "id": "nFvRBtjFyph5"
      },
      "source": [
        "You can use following command to see other available styles to prettify your charts.\n",
        "```python\n",
        "print(plt.style.available)```"
      ]
    },
    {
      "cell_type": "markdown",
      "metadata": {
        "id": "10iD1iMKyph6"
      },
      "source": [
        "---"
      ]
    },
    {
      "cell_type": "markdown",
      "metadata": {
        "id": "8JtUYwSzyph6"
      },
      "source": [
        "### >>> **Exercise 7 (5 min):**\n",
        "Notice that for the `ylim` parameters we hardcoded the maximum value for y. Is it possible to automate this instead of hard-coding it? How would you go about doing that? (Hint: look at code above for clues)"
      ]
    },
    {
      "cell_type": "code",
      "metadata": {
        "id": "ywp6MOAoyph6"
      },
      "source": [
        "# Answer here\n",
        "\n",
        "# plot barchart for X_sample\n",
        "def getMaxYlim(zip):\n",
        "  max = 0\n",
        "  for i,v in zip:\n",
        "    if(v>max):\n",
        "      max = v\n",
        "  return max+100\n",
        "    \n",
        "X.category_name.value_counts().plot(kind = 'bar',\n",
        "                                    title = 'Category distribution',\n",
        "                                    ylim = [0, getMaxYlim(X.category_name.value_counts().items())],        \n",
        "                                    rot = 0, fontsize = 11, figsize = (8,3))\n",
        "\n",
        "\n"
      ],
      "execution_count": null,
      "outputs": []
    },
    {
      "cell_type": "markdown",
      "metadata": {
        "id": "uSmB4A9dyph7"
      },
      "source": [
        "---"
      ]
    },
    {
      "cell_type": "markdown",
      "metadata": {
        "id": "GRLUq8lCyph7"
      },
      "source": [
        "### >>> **Exercise 8 (take home):** \n",
        "We can also do a side-by-side comparison of the distribution between the two datasets, but maybe you can try that as an excerise. Below we show you an snapshot of the type of chart we are looking for. "
      ]
    },
    {
      "cell_type": "markdown",
      "metadata": {
        "id": "VsOjvSA2yph7"
      },
      "source": [
        "![alt txt](https://i.imgur.com/9eO431H.png)"
      ]
    },
    {
      "cell_type": "code",
      "metadata": {
        "id": "W4uKY2kOVl70"
      },
      "source": [
        "S1=pd.concat([X.category_name.value_counts(),X_sample.category_name.value_counts()],axis=1)\n",
        "S1.plot(kind = 'bar',\n",
        "                                    title = 'Category distribution',\n",
        "                                    ylim = [0, getMaxYlim(X.category_name.value_counts().items())],        \n",
        "                                    rot = 0, fontsize = 11, figsize = (8,6))"
      ],
      "execution_count": null,
      "outputs": []
    },
    {
      "cell_type": "markdown",
      "metadata": {
        "id": "3VEwqNsxyph-"
      },
      "source": [
        " "
      ]
    },
    {
      "cell_type": "markdown",
      "metadata": {
        "id": "3kewCblEyph-"
      },
      "source": [
        "One thing that stood out from the both datasets, is that the distribution of the categories remain relatively the same, which is a good sign for us data scientist. There are many ways to conduct sampling on the dataset and still obtain a representative enough dataset. That is not the main focus in this notebook, but if you would like to know more about sampling and how the `sample` feature works, just reference the Pandas documentation and you will find interesting ways to conduct more advanced sampling."
      ]
    },
    {
      "cell_type": "markdown",
      "metadata": {
        "id": "q10pPV_Ayph-"
      },
      "source": [
        "---"
      ]
    },
    {
      "cell_type": "markdown",
      "metadata": {
        "id": "jdnKE2Hcyph-"
      },
      "source": [
        "### 5.2 Feature Creation\n",
        "The other operation from the list above that we are going to practise on is the so-called feature creation. As the name suggests, in feature creation we are looking at creating new interesting and useful features from the original dataset; a feature which captures the most important information from the raw information we already have access to. In our `X` table, we would like to create some features from the `text` field, but we are still not sure what kind of features we want to create. We can think of an interesting problem we want to solve, or something we want to analyze from the data, or some questions we want to answer. This is one process to come up with features -- this process is usually called `feature engineering` in the data science community. \n",
        "\n",
        "We know what feature creation is so let us get real involved with our dataset and make it more interesting by adding some special features or attributes if you will. First, we are going to obtain the **unigrams** for each text. (Unigram is just a fancy word we use in Text Mining which stands for 'tokens' or 'individual words'.) Yes, we want to extract all the words found in each text and append it as a new feature to the pandas dataframe. The reason for extracting unigrams is not so clear yet, but we can start to think of obtaining some statistics about the articles we have: something like **word distribution** or **word frequency**.\n",
        "\n",
        "Before going into any further coding, we will also introduce a useful text mining library called [NLTK](http://www.nltk.org/). The NLTK library is a natural language processing tool used for text mining tasks, so might as well we start to familiarize ourselves with it from now (It may come in handy for the final project!). In partcular, we are going to use the NLTK library to conduct tokenization because we are interested in splitting a sentence into its individual components, which we refer to as words, emojis, emails, etc. So let us go for it! We can call the `nltk` library as follows:\n",
        "\n",
        "```python\n",
        "import nltk\n",
        "```"
      ]
    },
    {
      "cell_type": "code",
      "metadata": {
        "id": "Xyw6SEwKyph_"
      },
      "source": [
        "import nltk\n",
        "nltk.download('punkt')"
      ],
      "execution_count": null,
      "outputs": []
    },
    {
      "cell_type": "code",
      "metadata": {
        "id": "2RY_V8lxypiA"
      },
      "source": [
        "# takes a like a minute or two to process\n",
        "X['unigrams'] = X['text'].apply(lambda x: dmh.tokenize_text(x))"
      ],
      "execution_count": null,
      "outputs": []
    },
    {
      "cell_type": "code",
      "metadata": {
        "id": "kG3F4C-wypiB"
      },
      "source": [
        "X[0:4][\"unigrams\"]"
      ],
      "execution_count": null,
      "outputs": []
    },
    {
      "cell_type": "markdown",
      "metadata": {
        "id": "HHDOUrxxypiD"
      },
      "source": [
        "If you take a closer look at the `X` table now, you will see the new columns `unigrams` that we have added. You will notice that it contains an array of tokens, which were extracted from the original `text` field. At first glance, you will notice that the tokenizer is not doing a great job, let us take a closer at a single record and see what was the exact result of the tokenization using the `nltk` library."
      ]
    },
    {
      "cell_type": "code",
      "metadata": {
        "id": "IAE3LxbuypiE"
      },
      "source": [
        "X[0:4]"
      ],
      "execution_count": null,
      "outputs": []
    },
    {
      "cell_type": "code",
      "metadata": {
        "scrolled": false,
        "id": "jVjlQiN8ypiF"
      },
      "source": [
        "list(X[0:1]['unigrams'])"
      ],
      "execution_count": null,
      "outputs": []
    },
    {
      "cell_type": "markdown",
      "metadata": {
        "id": "skTYUUcUypiG"
      },
      "source": [
        "The `nltk` library does a pretty decent job of tokenizing our text. There are many other tokenizers online, such as [spaCy](https://spacy.io/), and the built in libraries provided by [scikit-learn](http://scikit-learn.org/stable/modules/generated/sklearn.feature_extraction.text.CountVectorizer.html). We are making use of the NLTK library because it is open source and because it does a good job of segmentating text-based data. "
      ]
    },
    {
      "cell_type": "markdown",
      "metadata": {
        "id": "tr_WqKlxypiG"
      },
      "source": [
        "---"
      ]
    },
    {
      "cell_type": "markdown",
      "metadata": {
        "id": "FlZvRtmnypiG"
      },
      "source": [
        "### 5.3 Feature subset selection\n",
        "Okay, so we are making some headway here. Let us now make things a bit more interesting. We are going to do something different from what we have been doing thus far. We are going use a bit of everything that we have learned so far. Briefly speaking, we are going to move away from our main dataset (one form of feature subset selection), and we are going to generate a document-term matrix from the original dataset. In other words we are going to be creating something like this. "
      ]
    },
    {
      "cell_type": "markdown",
      "metadata": {
        "id": "XbDPu1cvypiG"
      },
      "source": [
        "![alt txt](https://docs.google.com/drawings/d/e/2PACX-1vS01RrtPHS3r1Lf8UjX4POgDol-lVF4JAbjXM3SAOU-dOe-MqUdaEMWwJEPk9TtiUvcoSqTeE--lNep/pub?w=748&h=366)"
      ]
    },
    {
      "cell_type": "markdown",
      "metadata": {
        "id": "y2Em33LIypiH"
      },
      "source": [
        "Initially, it won't have the same shape as the table above, but we will get into that later. For now, let us use scikit learn built in functionalities to generate this document. You will see for yourself how easy it is to generate this table without much coding. "
      ]
    },
    {
      "cell_type": "code",
      "metadata": {
        "id": "tFAAT86PypiH"
      },
      "source": [
        "from sklearn.feature_extraction.text import CountVectorizer\n",
        "\n",
        "count_vect = CountVectorizer()\n",
        "X_counts = count_vect.fit_transform(X.text)"
      ],
      "execution_count": null,
      "outputs": []
    },
    {
      "cell_type": "markdown",
      "metadata": {
        "id": "ZPcFcLsgypiH"
      },
      "source": [
        "What we did with those two lines of code is that we transorfmed the articles into a **term-document matrix**. Those lines of code tokenize each article using a built-in, default tokenizer (often referred to as an `analzyer`) and then produces the word frequency vector for each document. We can create our own analyzers or even use the nltk analyzer that we previously built. To keep things tidy and minimal we are going to use the default analyzer provided by `CountVectorizer`. Let us look closely at this analyzer. "
      ]
    },
    {
      "cell_type": "code",
      "metadata": {
        "id": "vyBBuYxNypiI"
      },
      "source": [
        "analyze = count_vect.build_analyzer()\n",
        "analyze(\"Hello World!\")\n",
        "#\" \".join(list(X[4:5].text))"
      ],
      "execution_count": null,
      "outputs": []
    },
    {
      "cell_type": "markdown",
      "metadata": {
        "id": "DhleCzO4ypiI"
      },
      "source": [
        "---"
      ]
    },
    {
      "cell_type": "markdown",
      "metadata": {
        "id": "4v9FblD7ypiJ"
      },
      "source": [
        "### **>>> Exercise 9 (5 min):**\n",
        "Let's analyze the first record of our X dataframe with the new analyzer we have just built. Go ahead try it!"
      ]
    },
    {
      "cell_type": "code",
      "metadata": {
        "id": "QfaZW2SPypiJ"
      },
      "source": [
        "# Answer here\n",
        "type(X[0:-1]['text'].values)\n",
        "for text in X[0:-1]['text'].values:\n",
        "  print(analyze(text))\n",
        "  break"
      ],
      "execution_count": null,
      "outputs": []
    },
    {
      "cell_type": "code",
      "metadata": {
        "id": "7x_wm38p4swv"
      },
      "source": [
        "analyze(\" \".join(list(X[:1].text)))"
      ],
      "execution_count": null,
      "outputs": []
    },
    {
      "cell_type": "markdown",
      "metadata": {
        "id": "_gniQ9owypiK"
      },
      "source": [
        "---"
      ]
    },
    {
      "cell_type": "markdown",
      "metadata": {
        "id": "CIG2SZ-sypiK"
      },
      "source": [
        "Now let us look at the term-document matrix we built above."
      ]
    },
    {
      "cell_type": "code",
      "metadata": {
        "id": "27KmR-xtypiK"
      },
      "source": [
        "# We can check the shape of this matrix by:\n",
        "X_counts.shape\n",
        "# 35788 different words(tokeziens)"
      ],
      "execution_count": null,
      "outputs": []
    },
    {
      "cell_type": "code",
      "metadata": {
        "id": "skLf8T5cypiL"
      },
      "source": [
        "# We can obtain the feature names of the vectorizer, i.e., the terms\n",
        "# usually on the horizontal axis\n",
        "count_vect.get_feature_names()[0:10]\n"
      ],
      "execution_count": null,
      "outputs": []
    },
    {
      "cell_type": "markdown",
      "metadata": {
        "id": "FUaJnesWypiN"
      },
      "source": [
        "![alt txt](https://i.imgur.com/57gA1sd.png)"
      ]
    },
    {
      "cell_type": "markdown",
      "metadata": {
        "id": "_0SjP3SdypiN"
      },
      "source": [
        "Above we can see the features found in the all the documents `X`, which are basically all the terms found in all the documents. As I said earlier, the transformation is not in the pretty format (table) we saw above -- the term-document matrix. We can do many things with the `count_vect` vectorizer and its transformation `X_counts`. You can find more information on other cool stuff you can do with the [CountVectorizer](http://scikit-learn.org/stable/modules/feature_extraction.html#text-feature-extraction). \n",
        "\n",
        "Now let us try to obtain something that is as close to the pretty table I provided above. Before jumping into the code for doing just that, it is important to mention that the reason for choosing the `fit_transofrm` for the `CountVectorizer` is that it efficiently learns the vocabulary dictionary and returns a term-document matrix.\n",
        "\n",
        "In the next bit of code, we want to extract the first five articles and transform them into document-term matrix, or in this case a 2-dimensional array. Here it goes. "
      ]
    },
    {
      "cell_type": "code",
      "metadata": {
        "id": "LPszclVIypiN"
      },
      "source": [
        "X[0:5]"
      ],
      "execution_count": null,
      "outputs": []
    },
    {
      "cell_type": "code",
      "metadata": {
        "id": "7CifNxirypiQ"
      },
      "source": [
        "# we convert from sparse array to normal array\n",
        "X_counts[0:5, 0:100].toarray()"
      ],
      "execution_count": null,
      "outputs": []
    },
    {
      "cell_type": "markdown",
      "metadata": {
        "id": "wuYx36GrypiQ"
      },
      "source": [
        "As you can see the result is just this huge sparse matrix, which is computationally intensive to generate and difficult to visualize. But we can see that the fifth record, specifically, contains a `1` in the beginning, which from our feature names we can deduce that this article contains exactly one `00` term."
      ]
    },
    {
      "cell_type": "markdown",
      "metadata": {
        "id": "cro139nWypiR"
      },
      "source": [
        "---"
      ]
    },
    {
      "cell_type": "markdown",
      "metadata": {
        "id": "jswJXHVQypiR"
      },
      "source": [
        "### **>>> Exercise 10 (take home):**\n",
        "We said that the `1` at the beginning of the fifth record represents the `00` term. Notice that there is another 1 in the same record. Can you provide code that can verify what word this 1 represents from the vocabulary. Try to do this as efficient as possible."
      ]
    },
    {
      "cell_type": "code",
      "metadata": {
        "id": "Wmli3CTQypiR"
      },
      "source": [
        "# Answer here\n",
        "represent_words = []\n",
        "index = 0\n",
        "array = X_counts[0:5, 0:100].toarray()[4]\n",
        "#get the value and index of that \"1\"\n",
        "for i in range(0,len(array)):\n",
        "  if(array[i]==1):\n",
        "    index = i\n",
        "    represent_words.append(count_vect.get_feature_names()[i])\n",
        "represent_word = represent_words[1]#the \"!\" represent what in the get_feature_names() chose the second one(the 1 at the beginning of the fifth)\n",
        "text = X[4:5]['unigrams'].values[0]#the origin text\n",
        "newtext = ' '.join(map(str, text)) + ' '+represent_word#add the representword to the text\n",
        "print(count_vect.transform([newtext]).toarray()[0][index] > array[index])#check if the same index of the array is added"
      ],
      "execution_count": null,
      "outputs": []
    },
    {
      "cell_type": "markdown",
      "metadata": {
        "id": "13HWAnLVypiW"
      },
      "source": [
        "---"
      ]
    },
    {
      "cell_type": "markdown",
      "metadata": {
        "id": "08aEXD_QypiW"
      },
      "source": [
        "We can also use the vectorizer to generate word frequency vector for new documents or articles. Let us try that below:"
      ]
    },
    {
      "cell_type": "code",
      "metadata": {
        "id": "yG7B_2VhypiW"
      },
      "source": [
        "count_vect.transform(['Something completely new.']).toarray()"
      ],
      "execution_count": null,
      "outputs": []
    },
    {
      "cell_type": "markdown",
      "metadata": {
        "id": "PHi8vdNkypiX"
      },
      "source": [
        "Now let us put a `00` in the document to see if it is detected as we expect. "
      ]
    },
    {
      "cell_type": "code",
      "metadata": {
        "id": "OPOkeKikypiX"
      },
      "source": [
        "count_vect.transform(['Something 00 completely 00 new.']).toarray()\n",
        "#00 always the first( has fixed position)"
      ],
      "execution_count": null,
      "outputs": []
    },
    {
      "cell_type": "markdown",
      "metadata": {
        "id": "zRQiYVHIypiY"
      },
      "source": [
        "Impressive, huh!"
      ]
    },
    {
      "cell_type": "markdown",
      "metadata": {
        "id": "AGny61iBypiZ"
      },
      "source": [
        "To get you started in thinking about how to better analyze your data or transformation, let us look at this nice little heat map of our term-document matrix. It may come as a surpise to see the gems you can mine when you start to look at the data from a different perspective. Visualization are good for this reason."
      ]
    },
    {
      "cell_type": "code",
      "metadata": {
        "id": "r35uytxcypiZ"
      },
      "source": [
        "# first twenty features only\n",
        "plot_x = [\"term_\"+str(i) for i in count_vect.get_feature_names()[0:20]]"
      ],
      "execution_count": null,
      "outputs": []
    },
    {
      "cell_type": "code",
      "metadata": {
        "id": "ez5YVbRtypia"
      },
      "source": [
        "plot_x"
      ],
      "execution_count": null,
      "outputs": []
    },
    {
      "cell_type": "code",
      "metadata": {
        "id": "Imlk7yOzypib"
      },
      "source": [
        "# obtain document index\n",
        "plot_y = [\"doc_\"+ str(i) for i in list(X.index)[0:20]]"
      ],
      "execution_count": null,
      "outputs": []
    },
    {
      "cell_type": "code",
      "metadata": {
        "id": "wJEnFEqg4cel"
      },
      "source": [
        "plot_y"
      ],
      "execution_count": null,
      "outputs": []
    },
    {
      "cell_type": "code",
      "metadata": {
        "id": "JC4GS3AYypic"
      },
      "source": [
        "plot_z = X_counts[0:20, 0:20].toarray()"
      ],
      "execution_count": null,
      "outputs": []
    },
    {
      "cell_type": "code",
      "metadata": {
        "id": "NL2TjAbLjcTW"
      },
      "source": [
        "plot_z"
      ],
      "execution_count": null,
      "outputs": []
    },
    {
      "cell_type": "markdown",
      "metadata": {
        "id": "Slx6Mj2bypie"
      },
      "source": [
        "For the heat map, we are going to use another visualization library called `seaborn`. It's built on top of matplotlib and closely integrated with pandas data structures. One of the biggest advantages of seaborn is that its default aesthetics are much more visually appealing than matplotlib. See comparison below."
      ]
    },
    {
      "cell_type": "markdown",
      "metadata": {
        "id": "31TojmbOypie"
      },
      "source": [
        "![alt txt](https://i.imgur.com/1isxmIV.png)"
      ]
    },
    {
      "cell_type": "markdown",
      "metadata": {
        "id": "Sxf78YYLypie"
      },
      "source": [
        "The other big advantage of seaborn is that seaborn has some built-in plots that matplotlib does not support. Most of these can eventually be replicated by hacking away at matplotlib, but they’re not built in and require much more effort to build.\n",
        "\n",
        "So without further ado, let us try it now!"
      ]
    },
    {
      "cell_type": "code",
      "metadata": {
        "id": "C_ae6Txiypie"
      },
      "source": [
        "import seaborn as sns\n",
        "\n",
        "df_todraw = pd.DataFrame(plot_z, columns = plot_x, index = plot_y)\n",
        "plt.subplots(figsize=(9, 7))\n",
        "ax = sns.heatmap(df_todraw,\n",
        "                 cmap=\"PuRd\",\n",
        "                 vmin=0, vmax=1, annot=True)"
      ],
      "execution_count": null,
      "outputs": []
    },
    {
      "cell_type": "code",
      "metadata": {
        "id": "cRdA-wgq6Gzy"
      },
      "source": [
        "data = df_todraw\n",
        "data[data>0].count()"
      ],
      "execution_count": null,
      "outputs": []
    },
    {
      "cell_type": "code",
      "metadata": {
        "id": "NJ9jO3Uk6urV"
      },
      "source": [
        "\n",
        "#删除/选取某行含有特定数值的列\n",
        "cols=[x for i,x in enumerate(df_todraw.columns) if df_todraw.iat[0,i]<10]\n",
        "#利用enumerate对row0进行遍历，将含有数字3的列放入cols中\n",
        "print(cols)\n",
        " \n",
        "#df2=df2[cols]   选取含有特定数值的列\n",
        "df_todraw2=df_todraw.drop(cols,axis=1) #利用drop方法将含有特定数值的列删除\n"
      ],
      "execution_count": null,
      "outputs": []
    },
    {
      "cell_type": "code",
      "metadata": {
        "id": "AsXiIByq66SK"
      },
      "source": [
        "df_todraw[df_todraw['term_00']>0]"
      ],
      "execution_count": null,
      "outputs": []
    },
    {
      "cell_type": "markdown",
      "metadata": {
        "id": "2ifmldLFypif"
      },
      "source": [
        "Check out more beautiful color palettes here: https://python-graph-gallery.com/197-available-color-palettes-with-matplotlib/"
      ]
    },
    {
      "cell_type": "markdown",
      "metadata": {
        "id": "37tw_5jgypig"
      },
      "source": [
        "---"
      ]
    },
    {
      "cell_type": "markdown",
      "metadata": {
        "id": "MzxnunzNypig"
      },
      "source": [
        "### **>>> Exercise 11 (take home):** \n",
        "From the chart above, we can see how sparse the term-document matrix is; i.e., there is only one terms with frequency of `1` in the subselection of the matrix. By the way, you may have noticed that we only selected 20 articles and 20 terms to plot the histrogram. As an excersise you can try to modify the code above to plot the entire term-document matrix or just a sample of it. How would you do this efficiently? Remember there is a lot of words in the vocab. Report below what methods you would use to get a nice and useful visualization"
      ]
    },
    {
      "cell_type": "code",
      "metadata": {
        "id": "1dIe5AgYypig"
      },
      "source": [
        "# Answer here\n",
        "# first twenty features only\n",
        "plot_x = [\"term_\"+str(i) for i in count_vect.get_feature_names()]\n",
        "# obtain document index\n",
        "plot_y = [\"doc_\"+ str(i) for i in list(X.index)]\n",
        "plot_z = X_counts.toarray()"
      ],
      "execution_count": null,
      "outputs": []
    },
    {
      "cell_type": "code",
      "metadata": {
        "id": "jUUa37sx5Nmi"
      },
      "source": [
        "ex11df = pd.DataFrame(X_counts.todense())"
      ],
      "execution_count": null,
      "outputs": []
    },
    {
      "cell_type": "code",
      "metadata": {
        "id": "kA8TGNEv5wqi"
      },
      "source": [
        "ex11df"
      ],
      "execution_count": null,
      "outputs": []
    },
    {
      "cell_type": "code",
      "metadata": {
        "id": "KM54I-qM06hD"
      },
      "source": [
        "x = np.arange(0, len(plot_x), 1) # reprsent the first word till the last word\n",
        "y = np.arange(0, len(plot_y), 1) # represent the first doc till the last"
      ],
      "execution_count": null,
      "outputs": []
    },
    {
      "cell_type": "code",
      "metadata": {
        "id": "FC1vySyRp8MI"
      },
      "source": [
        "plot_z"
      ],
      "execution_count": null,
      "outputs": []
    },
    {
      "cell_type": "code",
      "metadata": {
        "id": "11mDNEzysj2b"
      },
      "source": [
        "import matplotlib.pyplot as plt\n",
        "import numpy as np\n",
        "\n",
        "from mpl_toolkits.mplot3d import Axes3D\n",
        "fig = plt.figure(figsize = (25,25))\n",
        "ax = fig.gca(projection='3d')\n",
        "ax.set_zlim3d(0,25)\n",
        "x = np.arange(0, len(plot_x), 1) # reprsent the first word till the last word\n",
        "y = np.arange(0, len(plot_y), 1) # represent the first doc till the last\n",
        "plotX, plotY = np.meshgrid(x, y)\n",
        "plotZ = plot_z #the frequency of every word\n",
        "surf = ax.plot_wireframe(plotX, plotY, plotZ)\n",
        "#surf = ax.plot_surface(plotX, plotY, plotZ,rstride=10,cstride=10)\n",
        "plt.show()"
      ],
      "execution_count": null,
      "outputs": []
    },
    {
      "cell_type": "markdown",
      "metadata": {
        "id": "Yl3VGPnQypih"
      },
      "source": [
        "---"
      ]
    },
    {
      "cell_type": "markdown",
      "metadata": {
        "id": "vzY7NSwuypii"
      },
      "source": [
        "The great thing about what we have done so far is that we now open doors to new problems. Let us be optimistic. Even though we have the problem of sparsity and a very high dimensional data, we are now closer to uncovering wonders from the data. You see, the price you pay for the hard work is worth it because now you are gaining a lot of knowledge from what was just a list of what appeared to be irrelevant articles. Just the fact that you can blow up the data and find out interesting characteristics about the dataset in just a couple lines of code, is something that truly inspires me to practise Data Science. That's the motivation right there!"
      ]
    },
    {
      "cell_type": "markdown",
      "metadata": {
        "id": "4MvHRoE_ypii"
      },
      "source": [
        "---"
      ]
    },
    {
      "cell_type": "markdown",
      "metadata": {
        "id": "I0L8MxIyypii"
      },
      "source": [
        "### 5.4 Dimensionality Reduction\n",
        "Since we have just touched on the concept of sparsity most naturally the problem of \"curse of dimentionality\" comes up. I am not going to get into the full details of what dimensionality reduction is and what it is good for just the fact that is an excellent technique for visualizing data efficiently (please refer to notes for more information). All I can say is that we are going to deal with the issue of sparsity with a few lines of code. And we are going to try to visualize our data more efficiently with the results.\n",
        "\n",
        "We are going to make use of Principal Component Analysis to efficeintly reduce the dimensions of our data, with the main goal of \"finding a projection that captures the largest amount of variation in the data.\" This concept is important as it is very useful for visualizing and observing the characteristics of our dataset. "
      ]
    },
    {
      "cell_type": "markdown",
      "metadata": {
        "id": "50yTYtpsypij"
      },
      "source": [
        "[PCA Algorithm](http://scikit-learn.org/stable/modules/generated/sklearn.decomposition.PCA.html)\n",
        "\n",
        "**Input:** Raw term-vector matrix\n",
        "\n",
        "**Output:** Projections "
      ]
    },
    {
      "cell_type": "code",
      "metadata": {
        "id": "mhm7Ichjypij"
      },
      "source": [
        "from sklearn.decomposition import PCA"
      ],
      "execution_count": null,
      "outputs": []
    },
    {
      "cell_type": "code",
      "metadata": {
        "id": "XJCWXp0TNRf2"
      },
      "source": [
        "X_counts.toarray().shape"
      ],
      "execution_count": null,
      "outputs": []
    },
    {
      "cell_type": "code",
      "metadata": {
        "id": "-LLqrf6xypil"
      },
      "source": [
        "X_reduced = PCA(n_components = 4).fit_transform(X_counts.toarray())"
      ],
      "execution_count": null,
      "outputs": []
    },
    {
      "cell_type": "code",
      "metadata": {
        "id": "TjFbdsTHzXxq"
      },
      "source": [
        "X_reduced\n",
        "X['category_name']"
      ],
      "execution_count": null,
      "outputs": []
    },
    {
      "cell_type": "code",
      "metadata": {
        "id": "QB3BVlBQypio"
      },
      "source": [
        "X_reduced.shape"
      ],
      "execution_count": null,
      "outputs": []
    },
    {
      "cell_type": "code",
      "metadata": {
        "id": "uing-um2ypip"
      },
      "source": [
        "categories"
      ],
      "execution_count": null,
      "outputs": []
    },
    {
      "cell_type": "code",
      "metadata": {
        "id": "cuw1ltwiypip"
      },
      "source": [
        "col = ['coral', 'blue', 'black', 'm']\n",
        "\n",
        "# plot\n",
        "fig = plt.figure(figsize = (25,10))\n",
        "ax = fig.subplots()\n",
        "\n",
        "for c, category in zip(col, categories):\n",
        "    print(category)\n",
        "    xs = X_reduced[X['category_name'] == category].T[0]\n",
        "    ys = X_reduced[X['category_name'] == category].T[1]\n",
        "    ax.scatter(xs, ys, c = c, marker='o')\n",
        "\n",
        "ax.grid(color='gray', linestyle=':', linewidth=2, alpha=0.2)\n",
        "ax.set_xlabel('\\nX Label')\n",
        "ax.set_ylabel('\\nY Label')\n",
        "\n",
        "plt.show()"
      ],
      "execution_count": null,
      "outputs": []
    },
    {
      "cell_type": "markdown",
      "metadata": {
        "id": "uQ5xF0ZUypiq"
      },
      "source": [
        "From the 2D visualization above, we can see a slight \"hint of separation in the data\"; i.e., they might have some special grouping by category, but it is not immediately clear. The PCA was applied to the raw frequencies and this is considered a very naive approach as some words are not really unique to a document. Only categorizing by word frequency is considered a \"bag of words\" approach. Later on in the course you will learn about different approaches on how to create better features from the term-vector matrix, such as term-frequency inverse document frequency so-called TF-IDF."
      ]
    },
    {
      "cell_type": "markdown",
      "metadata": {
        "id": "gnAKLQ8Zypiq"
      },
      "source": [
        "---"
      ]
    },
    {
      "cell_type": "markdown",
      "metadata": {
        "id": "oa6PbYfYypiq"
      },
      "source": [
        "### >>> Exercise 12 (take home):\n",
        "Please try to reduce the dimension to 3, and plot the result use 3-D plot. Use at least 3 different angle (camera position) to check your result and describe what you found.\n",
        "\n",
        "$Hint$: you can refer to Axes3D in the documentation."
      ]
    },
    {
      "cell_type": "code",
      "metadata": {
        "id": "EPiUR2jNQxYZ"
      },
      "source": [
        "X_reduced = PCA(n_components = 3).fit_transform(X_counts.toarray())"
      ],
      "execution_count": null,
      "outputs": []
    },
    {
      "cell_type": "code",
      "metadata": {
        "id": "EpQLHlrwypir"
      },
      "source": [
        "def show3dresult(elev,azim):\n",
        "  fig = plt.figure(figsize = (25,10))\n",
        "  ax = Axes3D(fig)\n",
        "  for c, category in zip(col, categories):\n",
        "    xs = X_reduced[X['category_name'] == category].T[0]\n",
        "    ys = X_reduced[X['category_name'] == category].T[1]\n",
        "    zs = X_reduced[X['category_name'] == category].T[2]\n",
        "    ax.scatter(xs,ys,zs,c = c,marker='o')\n",
        "\n",
        "  ax.set_xlabel('X label')\n",
        "  ax.set_ylabel('Y label')\n",
        "  ax.set_zlabel('Z label')\n",
        "  ax.view_init(elev=elev, azim=azim)\n",
        "  plt.show()"
      ],
      "execution_count": null,
      "outputs": []
    },
    {
      "cell_type": "code",
      "metadata": {
        "id": "RA3cip7Dfpgy"
      },
      "source": [
        "show3dresult(30,120)"
      ],
      "execution_count": null,
      "outputs": []
    },
    {
      "cell_type": "code",
      "metadata": {
        "id": "LR4surRR7km_"
      },
      "source": [
        "show3dresult(0,0)"
      ],
      "execution_count": null,
      "outputs": []
    },
    {
      "cell_type": "code",
      "metadata": {
        "id": "nwqSrZ4S71qy"
      },
      "source": [
        "show3dresult(90,0)"
      ],
      "execution_count": null,
      "outputs": []
    },
    {
      "cell_type": "code",
      "metadata": {
        "id": "oZzUdvUi74yf"
      },
      "source": [
        "show3dresult(0,90)"
      ],
      "execution_count": null,
      "outputs": []
    },
    {
      "cell_type": "code",
      "metadata": {
        "id": "HmewYSdX8bCE"
      },
      "source": [
        "#The data are concentrated in [0,-50,-50] ~ [200,50,50]"
      ],
      "execution_count": null,
      "outputs": []
    },
    {
      "cell_type": "markdown",
      "metadata": {
        "id": "3U8YfaVmypir"
      },
      "source": [
        "---"
      ]
    },
    {
      "cell_type": "markdown",
      "metadata": {
        "id": "yGRMtjuJypis"
      },
      "source": [
        "### 5.5 Atrribute Transformation / Aggregation\n",
        "We can do other things with the term-vector matrix besides applying dimensionalaity reduction technique to deal with sparsity problem. Here we are going to generate a simple distribution of the words found in all the entire set of articles. Intuitively, this may not make any sense, but in data science sometimes we take some things for granted, and we just have to explore the data first before making any premature conclusions. On the topic of attribute transformation, we will take the word distribution and put the distribution in a scale that makes it easy to analyze patterns in the distrubution of words. Let us get into it!"
      ]
    },
    {
      "cell_type": "markdown",
      "metadata": {
        "id": "2pBZTUOhypis"
      },
      "source": [
        "First, we need to compute these frequencies for each term in all documents. Visually speaking, we are seeking to add values of the 2D matrix, vertically; i.e., sum of each column. You can also refer to this process as aggregation, which we won't explore further in this notebook because of the type of data we are dealing with. But I believe you get the idea of what that includes.  "
      ]
    },
    {
      "cell_type": "markdown",
      "metadata": {
        "id": "G0qLEzSdypis"
      },
      "source": [
        "![alt txt](https://docs.google.com/drawings/d/e/2PACX-1vTMfs0zWsbeAl-wrpvyCcZqeEUf7ggoGkDubrxX5XtwC5iysHFukD6c-dtyybuHnYigiRWRlRk2S7gp/pub?w=750&h=412)"
      ]
    },
    {
      "cell_type": "code",
      "metadata": {
        "id": "zQiYA51Qypis"
      },
      "source": [
        "# note this takes time to compute. You may want to reduce the amount of terms you want to compute frequencies for\n",
        "term_frequencies = []\n",
        "for j in range(0,X_counts.shape[1]):\n",
        "    term_frequencies.append(sum(X_counts[:,j].toarray()))"
      ],
      "execution_count": null,
      "outputs": []
    },
    {
      "cell_type": "code",
      "metadata": {
        "id": "tzrLDkDiypit"
      },
      "source": [
        "term_frequencies = np.asarray(X_counts.sum(axis=0))[0]"
      ],
      "execution_count": null,
      "outputs": []
    },
    {
      "cell_type": "code",
      "metadata": {
        "id": "Nwp7QUrRypit"
      },
      "source": [
        "term_frequencies[0]"
      ],
      "execution_count": null,
      "outputs": []
    },
    {
      "cell_type": "code",
      "metadata": {
        "id": "dF6W25-jE37O"
      },
      "source": [
        "sns"
      ],
      "execution_count": null,
      "outputs": []
    },
    {
      "cell_type": "code",
      "metadata": {
        "id": "P5U9tuJBypiu"
      },
      "source": [
        "plt.subplots(figsize=(100, 10))\n",
        "g = sns.barplot(x=count_vect.get_feature_names()[:300], \n",
        "            y=term_frequencies[:300])\n",
        "g.set_xticklabels(count_vect.get_feature_names()[:300], rotation = 90);"
      ],
      "execution_count": null,
      "outputs": []
    },
    {
      "cell_type": "markdown",
      "metadata": {
        "id": "-B-pO70zypiv"
      },
      "source": [
        "---"
      ]
    },
    {
      "cell_type": "markdown",
      "metadata": {
        "id": "2mAL8YKjypiv"
      },
      "source": [
        "### >>> **Exercise 13 (take home):**\n",
        "If you want a nicer interactive visualization here, I would encourage you try to install and use plotly to achieve this."
      ]
    },
    {
      "cell_type": "code",
      "metadata": {
        "id": "TE7jtlI9ypiv"
      },
      "source": [
        "# Answer here\n",
        "!pip install plotly"
      ],
      "execution_count": null,
      "outputs": []
    },
    {
      "cell_type": "code",
      "metadata": {
        "id": "betgpw_rHYTk"
      },
      "source": [
        "from pandas import DataFrame\n",
        "x=count_vect.get_feature_names()[:300]\n",
        "for i in range(0,len(x)):\n",
        "  x[i] = \"*\"+x[i] #plotly identify the str which is full of number as number, so add a str to avoid  \n",
        "y=term_frequencies[:300]\n",
        "z = list(zip(x,y))\n",
        "dataframe = DataFrame(z,columns=['feature_names','term_frequencies'])#change to a dataframe"
      ],
      "execution_count": null,
      "outputs": []
    },
    {
      "cell_type": "code",
      "metadata": {
        "id": "sddwfTGQHCCN"
      },
      "source": [
        "import plotly.express as px\n",
        "#df = px.data.gapminder().query(\"continent == 'Europe' and year == 2007 and pop > 2.e6\")\n",
        "df = dataframe\n",
        "fig = px.bar(df, y='term_frequencies', x='feature_names')\n",
        "#fig.update_traces(texttemplate='%{text:.2s}', textposition='outside')\n",
        "#fig.update_layout(uniformtext_minsize=8, uniformtext_mode='hide')\n",
        "fig.show()"
      ],
      "execution_count": null,
      "outputs": []
    },
    {
      "cell_type": "markdown",
      "metadata": {
        "id": "IAPs314gypiv"
      },
      "source": [
        "---"
      ]
    },
    {
      "cell_type": "markdown",
      "metadata": {
        "id": "Q-UGt31-ypiw"
      },
      "source": [
        "### >>> **Exercise 14 (take home):** \n",
        "The chart above contains all the vocabulary, and it's computationally intensive to both compute and visualize. Can you efficiently reduce the number of terms you want to visualize as an exercise. \n"
      ]
    },
    {
      "cell_type": "code",
      "metadata": {
        "id": "qAOrtbpNypiw"
      },
      "source": [
        "# Answer here\n",
        "# count_vect.get_feature_names()[:300]\n",
        "# term_frequencies[:300]\n",
        "dic = dict(zip(count_vect.get_feature_names()[:300], term_frequencies[:300]))\n",
        "dic2 = dict(zip(count_vect.get_feature_names()[:300], term_frequencies[:300]))#copy\n",
        "lowerBound = 10\n",
        "# only get the data whose frequency is more than lowerbound\n",
        "for key,value in dic.items():\n",
        "  if(value <= lowerBound ):\n",
        "    del dic2[key]\n",
        "x = list(dic2.keys())\n",
        "y = list(dic2.values())\n",
        "plt.subplots(figsize=(100, 10))\n",
        "g = sns.barplot(x=x,y=y)\n",
        "g.set_xticklabels(count_vect.get_feature_names()[:300], rotation = 90);"
      ],
      "execution_count": null,
      "outputs": []
    },
    {
      "cell_type": "code",
      "metadata": {
        "id": "CWmymXY_k81W"
      },
      "source": [
        "import plotly.express as px\n",
        "#df = px.data.gapminder().query(\"continent == 'Europe' and year == 2007 and pop > 2.e6\")\n",
        "#lowerbound = 10\n",
        "df = dataframe.query(\"term_frequencies > 10\")# only get the data whose frequency is more than lowerbound\n",
        "fig = px.bar(df, y='term_frequencies', x='feature_names')\n",
        "#fig.update_traces(texttemplate='%{text:.2s}', textposition='outside')\n",
        "#fig.update_layout(uniformtext_minsize=8, uniformtext_mode='hide')\n",
        "fig.show()"
      ],
      "execution_count": null,
      "outputs": []
    },
    {
      "cell_type": "markdown",
      "metadata": {
        "id": "osguHYfkypiw"
      },
      "source": [
        "---"
      ]
    },
    {
      "cell_type": "markdown",
      "metadata": {
        "id": "U__8-kTTypiw"
      },
      "source": [
        "### >>> **Exercise 15 (take home):** \n",
        "Additionally, you can attempt to sort the terms on the `x-axis` by frequency instead of in alphabetical order. This way the visualization is more meaninfgul and you will be able to observe the so called [long tail](https://en.wikipedia.org/wiki/Long_tail) (get familiar with this term since it will appear a lot in data mining and other statistics courses). see picture below\n",
        "\n",
        "![alt txt](https://upload.wikimedia.org/wikipedia/commons/thumb/8/8a/Long_tail.svg/1000px-Long_tail.svg.png)"
      ]
    },
    {
      "cell_type": "code",
      "metadata": {
        "id": "Mw6qvf5cypix"
      },
      "source": [
        "# Answer here\n",
        "plt.subplots(figsize=(100, 10))\n",
        "dic = dict(zip(count_vect.get_feature_names()[:300], term_frequencies[:300]))\n",
        "sortdic = {k: v for k, v in sorted(dic.items(), key=lambda item: item[1],reverse=True)}#sort the origin data by value\n",
        "g = sns.barplot(x=list(sortdic.keys()), \n",
        "            y=list(sortdic.values()))\n",
        "g.set_xticklabels(count_vect.get_feature_names()[:300], rotation = 90);"
      ],
      "execution_count": null,
      "outputs": []
    },
    {
      "cell_type": "code",
      "metadata": {
        "id": "oKhd7MKflUw3"
      },
      "source": [
        "import plotly.express as px\n",
        "#df = px.data.gapminder().query(\"continent == 'Europe' and year == 2007 and pop > 2.e6\")\n",
        "df = dataframe.sort_values(by='term_frequencies', ascending=False)\n",
        "fig = px.bar(df, y='term_frequencies', x='feature_names')\n",
        "#fig.update_traces(texttemplate='%{text:.2s}', textposition='outside')\n",
        "#fig.update_layout(uniformtext_minsize=8, uniformtext_mode='hide')\n",
        "fig.show()"
      ],
      "execution_count": null,
      "outputs": []
    },
    {
      "cell_type": "markdown",
      "metadata": {
        "id": "jM95pAmqypix"
      },
      "source": [
        "---"
      ]
    },
    {
      "cell_type": "markdown",
      "metadata": {
        "id": "854o-3sMypix"
      },
      "source": [
        "Since we already have those term frequencies, we can also transform the values in that vector into the log distribution. All we need is to import the `math` library provided by python and apply it to the array of values of the term frequency vector. This is a typical example of attribute transformation. Let's go for it. The log distribution is a technique to visualize the term frequency into a scale that makes you easily visualize the distribution in a more readable format. In other words, the variations between the term frequencies are now easy to observe. Let us try it out!"
      ]
    },
    {
      "cell_type": "code",
      "metadata": {
        "id": "8UHFMl0wypix"
      },
      "source": [
        "import math\n",
        "term_frequencies_log = [math.log(i) for i in term_frequencies]"
      ],
      "execution_count": null,
      "outputs": []
    },
    {
      "cell_type": "code",
      "metadata": {
        "id": "JcGNYuktypiy"
      },
      "source": [
        "plt.subplots(figsize=(100, 10))\n",
        "g = sns.barplot(x=count_vect.get_feature_names()[:300],\n",
        "                y=term_frequencies_log[:300])\n",
        "g.set_xticklabels(count_vect.get_feature_names()[:300], rotation = 90);\n",
        "#log funtion help us view the data easily"
      ],
      "execution_count": null,
      "outputs": []
    },
    {
      "cell_type": "markdown",
      "metadata": {
        "id": "lMjf0G83ypiz"
      },
      "source": [
        "Besides observing a complete transformation on the disrtibution, notice the scale on the y-axis. The log distribution in our unsorted example has no meaning, but try to properly sort the terms by their frequency, and you will see an interesting effect. Go for it!"
      ]
    },
    {
      "cell_type": "markdown",
      "metadata": {
        "id": "UXaQM1Gsypiz"
      },
      "source": [
        "---"
      ]
    },
    {
      "cell_type": "markdown",
      "metadata": {
        "id": "yLh2I8WWypiz"
      },
      "source": [
        "### 5.6 Discretization and Binarization\n",
        "In this section we are going to discuss a very important pre-preprocessing technique used to transform the data, specifically categorical values, into a format that satisfies certain criteria required by particular algorithms. Given our current original dataset, we would like to transform one of the attributes, `category_name`, into four binary attributes. In other words, we are taking the category name and replacing it with a `n` asymmetric binary attributes. The logic behind this transformation is discussed in detail in the recommended Data Mining text book (please refer to it on page 58). People from the machine learning community also refer to this transformation as one-hot encoding, but as you may become aware later in the course, these concepts are all the same, we just have different prefrence on how we refer to the concepts. Let us take a look at what we want to achieve in code. "
      ]
    },
    {
      "cell_type": "code",
      "metadata": {
        "id": "yECQVpf3ypiz"
      },
      "source": [
        "from sklearn import preprocessing, metrics, decomposition, pipeline, dummy"
      ],
      "execution_count": null,
      "outputs": []
    },
    {
      "cell_type": "code",
      "metadata": {
        "id": "9VaC913qypi0"
      },
      "source": [
        "mlb = preprocessing.LabelBinarizer()"
      ],
      "execution_count": null,
      "outputs": []
    },
    {
      "cell_type": "code",
      "metadata": {
        "id": "SEersj8iypi1"
      },
      "source": [
        "mlb.fit(X.category)"
      ],
      "execution_count": null,
      "outputs": []
    },
    {
      "cell_type": "code",
      "metadata": {
        "id": "cd1auUvNypi2"
      },
      "source": [
        "mlb.classes_"
      ],
      "execution_count": null,
      "outputs": []
    },
    {
      "cell_type": "code",
      "metadata": {
        "id": "bQ1-JFoXypi2"
      },
      "source": [
        "X['bin_category'] = mlb.transform(X['category']).tolist()"
      ],
      "execution_count": null,
      "outputs": []
    },
    {
      "cell_type": "code",
      "metadata": {
        "id": "20HvjDnxypi3"
      },
      "source": [
        "X[0:9]"
      ],
      "execution_count": null,
      "outputs": []
    },
    {
      "cell_type": "markdown",
      "metadata": {
        "id": "CmxHrAfMypi5"
      },
      "source": [
        "Take a look at the new attribute we have added to the `X` table. You can see that the new attribute, which is called `bin_category`, contains an array of 0's and 1's. The `1` is basically to indicate the position of the label or category we binarized. If you look at the first two records, the one is places in slot 2 in the array; this helps to indicate to any of the algorithms which we are feeding this data to, that the record belong to that specific category. \n",
        "\n",
        "Attributes with **continuous values** also have strategies to tranform the data; this is usually called **Discretization** (please refer to the text book for more inforamation)."
      ]
    },
    {
      "cell_type": "markdown",
      "metadata": {
        "id": "QtZV1PDTypi6"
      },
      "source": [
        "---"
      ]
    },
    {
      "cell_type": "markdown",
      "metadata": {
        "id": "w1rmToJiypi6"
      },
      "source": [
        "### >>> **Exercise 16 (take home):**\n",
        "Try to generate the binarization using the `category_name` column instead. Does it work?"
      ]
    },
    {
      "cell_type": "code",
      "metadata": {
        "id": "HpXogk2Mypi6"
      },
      "source": [
        "# Answer here\n",
        "mlb.fit(X.category_name)\n",
        "mlb.classes_\n",
        "X['bin_category'] = mlb.transform(X['category_name']).tolist()\n",
        "X[0:9]\n",
        "#it works!"
      ],
      "execution_count": null,
      "outputs": []
    },
    {
      "cell_type": "markdown",
      "metadata": {
        "id": "1YUdieazypi7"
      },
      "source": [
        "---"
      ]
    },
    {
      "cell_type": "markdown",
      "metadata": {
        "id": "Dz9McOqLypi7"
      },
      "source": [
        "# 6. Data Exploration"
      ]
    },
    {
      "cell_type": "markdown",
      "metadata": {
        "id": "o8Pz65qAypi8"
      },
      "source": [
        "Sometimes you need to take a peek at your data to understand the relationships in your dataset. Here, we will focus in a similarity example. Let's take 3 documents and compare them."
      ]
    },
    {
      "cell_type": "code",
      "metadata": {
        "id": "y_idtPlrypi8"
      },
      "source": [
        "# We retrieve 2 sentences for a random record, here, indexed at 50 and 100\n",
        "document_to_transform_1 = []\n",
        "random_record_1 = X.iloc[50]\n",
        "random_record_1 = random_record_1['text']\n",
        "document_to_transform_1.append(random_record_1)\n",
        "\n",
        "document_to_transform_2 = []\n",
        "random_record_2 = X.iloc[100]\n",
        "random_record_2 = random_record_2['text']\n",
        "document_to_transform_2.append(random_record_2)\n",
        "\n",
        "document_to_transform_3 = []\n",
        "random_record_3 = X.iloc[150]\n",
        "random_record_3 = random_record_3['text']\n",
        "document_to_transform_3.append(random_record_3)"
      ],
      "execution_count": null,
      "outputs": []
    },
    {
      "cell_type": "markdown",
      "metadata": {
        "id": "1ndNf5Wvypi9"
      },
      "source": [
        "Let's look at our emails."
      ]
    },
    {
      "cell_type": "code",
      "metadata": {
        "id": "-c3OPpNlypi9"
      },
      "source": [
        "print(document_to_transform_1)\n",
        "print(document_to_transform_2)\n",
        "print(document_to_transform_3)"
      ],
      "execution_count": null,
      "outputs": []
    },
    {
      "cell_type": "code",
      "metadata": {
        "id": "XRTJHXKaypi-"
      },
      "source": [
        "from sklearn.preprocessing import binarize\n",
        "\n",
        "# Transform sentence with Vectorizers\n",
        "document_vector_count_1 = count_vect.transform(document_to_transform_1)\n",
        "document_vector_count_2 = count_vect.transform(document_to_transform_2)\n",
        "document_vector_count_3 = count_vect.transform(document_to_transform_3)\n",
        "\n",
        "# Binarize vecors to simplify: 0 for abscence, 1 for prescence\n",
        "document_vector_count_1_bin = binarize(document_vector_count_1)\n",
        "document_vector_count_2_bin = binarize(document_vector_count_2)\n",
        "document_vector_count_3_bin = binarize(document_vector_count_3)\n",
        "\n",
        "# print\n",
        "print(\"Let's take a look at the count vectors:\")\n",
        "print(document_vector_count_1.todense())\n",
        "print(document_vector_count_2.todense())\n",
        "print(document_vector_count_3.todense())"
      ],
      "execution_count": null,
      "outputs": []
    },
    {
      "cell_type": "code",
      "metadata": {
        "id": "KvUY3CDCypi_"
      },
      "source": [
        "from sklearn.metrics.pairwise import cosine_similarity\n",
        "\n",
        "# Calculate Cosine Similarity\n",
        "cos_sim_count_1_2 = cosine_similarity(document_vector_count_1, document_vector_count_2, dense_output=True)\n",
        "cos_sim_count_1_3 = cosine_similarity(document_vector_count_1, document_vector_count_3, dense_output=True)\n",
        "cos_sim_count_1_1 = cosine_similarity(document_vector_count_1, document_vector_count_1, dense_output=True)\n",
        "cos_sim_count_2_2 = cosine_similarity(document_vector_count_2, document_vector_count_2, dense_output=True)\n",
        "\n",
        "# Print \n",
        "print(\"Cosine Similarity using count bw 1 and 2: %(x)f\" %{\"x\":cos_sim_count_1_2})\n",
        "print(\"Cosine Similarity using count bw 1 and 3: %(x)f\" %{\"x\":cos_sim_count_1_3})\n",
        "print(\"Cosine Similarity using count bw 1 and 1: %(x)f\" %{\"x\":cos_sim_count_1_1})\n",
        "print(\"Cosine Similarity using count bw 2 and 2: %(x)f\" %{\"x\":cos_sim_count_2_2})"
      ],
      "execution_count": null,
      "outputs": []
    },
    {
      "cell_type": "markdown",
      "metadata": {
        "id": "i8WR8TIdypjA"
      },
      "source": [
        "As expected, cosine similarity between a sentence and itself is 1. Between 2 entirely different sentences, it will be 0. \n",
        "\n",
        "We can assume that we have the more common features in bthe documents 1 and 3 than in documents 1 and 2. This reflects indeed in a higher similarity than that of sentences 1 and 3. \n"
      ]
    },
    {
      "cell_type": "markdown",
      "metadata": {
        "id": "Pa-2OGEfypjA"
      },
      "source": [
        "---"
      ]
    },
    {
      "cell_type": "markdown",
      "metadata": {
        "id": "rf6ysDkLypjA"
      },
      "source": [
        "## 7. Concluding Remarks"
      ]
    },
    {
      "cell_type": "markdown",
      "metadata": {
        "id": "KU6KT1ZKypjA"
      },
      "source": [
        "Wow! We have come a long way! We can now call ourselves experts of Data Preprocessing. You should feel excited and proud because the process of Data Mining usually involves 70% preprocessing and 30% training learning models. You will learn this as you progress in the Data Mining course. I really feel that if you go through the exercises and challenge yourself, you are on your way to becoming a super Data Scientist. \n",
        "\n",
        "From here the possibilities for you are endless. You now know how to use almost every common technique for preprocessing with state-of-the-art tools, such as as Pandas and Scikit-learn. You are now with the trend! \n",
        "\n",
        "After completing this notebook you can do a lot with the results we have generated. You can train algorithms and models that are able to classify articles into certain categories and much more. You can also try to experiment with different datasets, or venture further into text analytics by using new deep learning techniques such as word2vec. All of this will be presented in the next lab session. Until then, go teach machines how to be intelligent to make the world a better place. "
      ]
    },
    {
      "cell_type": "markdown",
      "metadata": {
        "id": "ULQD2OmuypjB"
      },
      "source": [
        "----"
      ]
    },
    {
      "cell_type": "markdown",
      "metadata": {
        "id": "m7vmmgQ7ypjB"
      },
      "source": [
        "## . References"
      ]
    },
    {
      "cell_type": "markdown",
      "metadata": {
        "id": "jpXZzoK0ypjB"
      },
      "source": [
        "- Pandas cook book ([Recommended for starters](http://pandas.pydata.org/pandas-docs/stable/cookbook.html))\n",
        "- [Pang-Ning Tan, Michael Steinbach, Vipin Kumar, Introduction to Data Mining, Addison Wesley](https://dl.acm.org/citation.cfm?id=1095618)"
      ]
    },
    {
      "cell_type": "code",
      "metadata": {
        "id": "Qb4jb44typjB"
      },
      "source": [
        ""
      ],
      "execution_count": null,
      "outputs": []
    }
  ]
}